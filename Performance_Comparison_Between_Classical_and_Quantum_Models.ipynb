{
  "cells": [
    {
      "cell_type": "markdown",
      "metadata": {
        "id": "j6331ZSsQGY3"
      },
      "source": [
        "# Quantum data"
      ]
    },
    {
      "cell_type": "markdown",
      "metadata": {
        "id": "B2HoEn9BEWfn"
      },
      "source": [
        "Expanding on this fascinating exploration of quantum versus classical machine learning, this project dives into recent advances in understanding the capabilities and limitations of quantum models compared to their classical counterparts. Building on the foundational concepts introduced in the [MNIST](https://www.tensorflow.org/quantum/tutorials/mnist) project, this guide examines the findings of [Huang et al.](https://arxiv.org/abs/2011.01938), which highlight how the choice of dataset can influence the comparative performance between quantum and classical models. In their study, the authors investigate the scenarios where classical machine learning (ML) models can achieve similar—or even superior—performance to quantum models, depending on specific dataset characteristics. They also establish a clear empirical performance gap between classical and quantum ML models by utilizing a meticulously designed dataset, underscoring how the right data can amplify quantum models' advantages.\n",
        "\n",
        "This project will guide you through the following steps to demonstrate these comparisons in practice:\n",
        "\n",
        "1. **Preparing a Reduced-Dimension Fashion-MNIST Dataset**: We start by transforming the Fashion-MNIST dataset to reduce its dimensionality, creating a more computationally manageable dataset that retains essential patterns. This preprocessing step allows us to test quantum and classical models more effectively by focusing on core features without overwhelming computational resources.\n",
        "\n",
        "2. **Applying Quantum Circuits for Re-Labeling and Computing Projected Quantum Kernel (PQK) Features**: In this step, quantum circuits will be used to re-label the dataset, introducing a quantum dimension through Projected Quantum Kernel (PQK) features. The PQK features act as quantum-generated representations that capture data patterns in ways classical models may struggle to replicate, enabling a fresh lens through which to view the dataset.\n",
        "\n",
        "3. **Training and Comparison**: Finally, we train a classical neural network on the re-labeled dataset and assess its performance relative to a model trained with access to PQK features. By comparing these models, we aim to evaluate the added value that quantum-derived features bring to classical learning, offering insights into the nuanced dynamics between quantum and classical performance.\n",
        "\n",
        "This project not only demonstrates technical methods but also encourages a deeper understanding of when and why quantum models might excel, especially when combined with innovative data representations like PQK. By the end, you'll gain a clearer perspective on how quantum and classical models intersect and diverge across different datasets and experimental setups, enriching the broader conversation on the practical advantages of quantum machine learning."
      ]
    },
    {
      "cell_type": "markdown",
      "metadata": {
        "id": "aQvswYv7LAaU"
      },
      "source": [
        "# Setup"
      ]
    },
    {
      "cell_type": "code",
      "execution_count": 1,
      "metadata": {
        "colab": {
          "base_uri": "https://localhost:8080/"
        },
        "id": "X3Y5vLL9K_Ai",
        "outputId": "fa4286f4-8934-465d-b5b2-96df5db60504"
      },
      "outputs": [
        {
          "output_type": "stream",
          "name": "stdout",
          "text": [
            "Collecting tensorflow==2.15.0\n",
            "  Downloading tensorflow-2.15.0-cp310-cp310-manylinux_2_17_x86_64.manylinux2014_x86_64.whl.metadata (4.4 kB)\n",
            "Collecting tensorflow-quantum==0.7.3\n",
            "  Downloading tensorflow_quantum-0.7.3-cp310-cp310-manylinux_2_17_x86_64.manylinux2014_x86_64.whl.metadata (1.7 kB)\n",
            "Requirement already satisfied: absl-py>=1.0.0 in /usr/local/lib/python3.10/dist-packages (from tensorflow==2.15.0) (1.4.0)\n",
            "Requirement already satisfied: astunparse>=1.6.0 in /usr/local/lib/python3.10/dist-packages (from tensorflow==2.15.0) (1.6.3)\n",
            "Requirement already satisfied: flatbuffers>=23.5.26 in /usr/local/lib/python3.10/dist-packages (from tensorflow==2.15.0) (24.3.25)\n",
            "Requirement already satisfied: gast!=0.5.0,!=0.5.1,!=0.5.2,>=0.2.1 in /usr/local/lib/python3.10/dist-packages (from tensorflow==2.15.0) (0.6.0)\n",
            "Requirement already satisfied: google-pasta>=0.1.1 in /usr/local/lib/python3.10/dist-packages (from tensorflow==2.15.0) (0.2.0)\n",
            "Requirement already satisfied: h5py>=2.9.0 in /usr/local/lib/python3.10/dist-packages (from tensorflow==2.15.0) (3.12.1)\n",
            "Requirement already satisfied: libclang>=13.0.0 in /usr/local/lib/python3.10/dist-packages (from tensorflow==2.15.0) (18.1.1)\n",
            "Collecting ml-dtypes~=0.2.0 (from tensorflow==2.15.0)\n",
            "  Downloading ml_dtypes-0.2.0-cp310-cp310-manylinux_2_17_x86_64.manylinux2014_x86_64.whl.metadata (20 kB)\n",
            "Requirement already satisfied: numpy<2.0.0,>=1.23.5 in /usr/local/lib/python3.10/dist-packages (from tensorflow==2.15.0) (1.26.4)\n",
            "Requirement already satisfied: opt-einsum>=2.3.2 in /usr/local/lib/python3.10/dist-packages (from tensorflow==2.15.0) (3.4.0)\n",
            "Requirement already satisfied: packaging in /usr/local/lib/python3.10/dist-packages (from tensorflow==2.15.0) (24.1)\n",
            "Requirement already satisfied: protobuf!=4.21.0,!=4.21.1,!=4.21.2,!=4.21.3,!=4.21.4,!=4.21.5,<5.0.0dev,>=3.20.3 in /usr/local/lib/python3.10/dist-packages (from tensorflow==2.15.0) (3.20.3)\n",
            "Requirement already satisfied: setuptools in /usr/local/lib/python3.10/dist-packages (from tensorflow==2.15.0) (75.1.0)\n",
            "Requirement already satisfied: six>=1.12.0 in /usr/local/lib/python3.10/dist-packages (from tensorflow==2.15.0) (1.16.0)\n",
            "Requirement already satisfied: termcolor>=1.1.0 in /usr/local/lib/python3.10/dist-packages (from tensorflow==2.15.0) (2.5.0)\n",
            "Requirement already satisfied: typing-extensions>=3.6.6 in /usr/local/lib/python3.10/dist-packages (from tensorflow==2.15.0) (4.12.2)\n",
            "Collecting wrapt<1.15,>=1.11.0 (from tensorflow==2.15.0)\n",
            "  Downloading wrapt-1.14.1-cp310-cp310-manylinux_2_5_x86_64.manylinux1_x86_64.manylinux_2_17_x86_64.manylinux2014_x86_64.whl.metadata (6.7 kB)\n",
            "Requirement already satisfied: tensorflow-io-gcs-filesystem>=0.23.1 in /usr/local/lib/python3.10/dist-packages (from tensorflow==2.15.0) (0.37.1)\n",
            "Requirement already satisfied: grpcio<2.0,>=1.24.3 in /usr/local/lib/python3.10/dist-packages (from tensorflow==2.15.0) (1.64.1)\n",
            "Collecting tensorboard<2.16,>=2.15 (from tensorflow==2.15.0)\n",
            "  Downloading tensorboard-2.15.2-py3-none-any.whl.metadata (1.7 kB)\n",
            "Collecting tensorflow-estimator<2.16,>=2.15.0 (from tensorflow==2.15.0)\n",
            "  Downloading tensorflow_estimator-2.15.0-py2.py3-none-any.whl.metadata (1.3 kB)\n",
            "Collecting keras<2.16,>=2.15.0 (from tensorflow==2.15.0)\n",
            "  Downloading keras-2.15.0-py3-none-any.whl.metadata (2.4 kB)\n",
            "Collecting cirq-core==1.3.0 (from tensorflow-quantum==0.7.3)\n",
            "  Downloading cirq_core-1.3.0-py3-none-any.whl.metadata (1.9 kB)\n",
            "Collecting cirq-google==1.3.0 (from tensorflow-quantum==0.7.3)\n",
            "  Downloading cirq_google-1.3.0-py3-none-any.whl.metadata (2.0 kB)\n",
            "Collecting sympy==1.12 (from tensorflow-quantum==0.7.3)\n",
            "  Downloading sympy-1.12-py3-none-any.whl.metadata (12 kB)\n",
            "Collecting duet~=0.2.8 (from cirq-core==1.3.0->tensorflow-quantum==0.7.3)\n",
            "  Downloading duet-0.2.9-py3-none-any.whl.metadata (2.3 kB)\n",
            "Requirement already satisfied: matplotlib~=3.0 in /usr/local/lib/python3.10/dist-packages (from cirq-core==1.3.0->tensorflow-quantum==0.7.3) (3.8.0)\n",
            "Requirement already satisfied: networkx>=2.4 in /usr/local/lib/python3.10/dist-packages (from cirq-core==1.3.0->tensorflow-quantum==0.7.3) (3.4.2)\n",
            "Requirement already satisfied: pandas in /usr/local/lib/python3.10/dist-packages (from cirq-core==1.3.0->tensorflow-quantum==0.7.3) (2.2.2)\n",
            "Collecting sortedcontainers~=2.0 (from cirq-core==1.3.0->tensorflow-quantum==0.7.3)\n",
            "  Downloading sortedcontainers-2.4.0-py2.py3-none-any.whl.metadata (10 kB)\n",
            "Requirement already satisfied: scipy in /usr/local/lib/python3.10/dist-packages (from cirq-core==1.3.0->tensorflow-quantum==0.7.3) (1.13.1)\n",
            "Requirement already satisfied: tqdm in /usr/local/lib/python3.10/dist-packages (from cirq-core==1.3.0->tensorflow-quantum==0.7.3) (4.66.6)\n",
            "Requirement already satisfied: google-api-core>=1.14.0 in /usr/local/lib/python3.10/dist-packages (from google-api-core[grpc]>=1.14.0->cirq-google==1.3.0->tensorflow-quantum==0.7.3) (2.19.2)\n",
            "Requirement already satisfied: proto-plus>=1.20.0 in /usr/local/lib/python3.10/dist-packages (from cirq-google==1.3.0->tensorflow-quantum==0.7.3) (1.25.0)\n",
            "Requirement already satisfied: mpmath>=0.19 in /usr/local/lib/python3.10/dist-packages (from sympy==1.12->tensorflow-quantum==0.7.3) (1.3.0)\n",
            "Requirement already satisfied: wheel<1.0,>=0.23.0 in /usr/local/lib/python3.10/dist-packages (from astunparse>=1.6.0->tensorflow==2.15.0) (0.44.0)\n",
            "Requirement already satisfied: google-auth<3,>=1.6.3 in /usr/local/lib/python3.10/dist-packages (from tensorboard<2.16,>=2.15->tensorflow==2.15.0) (2.27.0)\n",
            "Requirement already satisfied: google-auth-oauthlib<2,>=0.5 in /usr/local/lib/python3.10/dist-packages (from tensorboard<2.16,>=2.15->tensorflow==2.15.0) (1.2.1)\n",
            "Requirement already satisfied: markdown>=2.6.8 in /usr/local/lib/python3.10/dist-packages (from tensorboard<2.16,>=2.15->tensorflow==2.15.0) (3.7)\n",
            "Requirement already satisfied: requests<3,>=2.21.0 in /usr/local/lib/python3.10/dist-packages (from tensorboard<2.16,>=2.15->tensorflow==2.15.0) (2.32.3)\n",
            "Requirement already satisfied: tensorboard-data-server<0.8.0,>=0.7.0 in /usr/local/lib/python3.10/dist-packages (from tensorboard<2.16,>=2.15->tensorflow==2.15.0) (0.7.2)\n",
            "Requirement already satisfied: werkzeug>=1.0.1 in /usr/local/lib/python3.10/dist-packages (from tensorboard<2.16,>=2.15->tensorflow==2.15.0) (3.0.6)\n",
            "Requirement already satisfied: googleapis-common-protos<2.0.dev0,>=1.56.2 in /usr/local/lib/python3.10/dist-packages (from google-api-core>=1.14.0->google-api-core[grpc]>=1.14.0->cirq-google==1.3.0->tensorflow-quantum==0.7.3) (1.65.0)\n",
            "Requirement already satisfied: grpcio-status<2.0.dev0,>=1.33.2 in /usr/local/lib/python3.10/dist-packages (from google-api-core[grpc]>=1.14.0->cirq-google==1.3.0->tensorflow-quantum==0.7.3) (1.48.2)\n",
            "Requirement already satisfied: cachetools<6.0,>=2.0.0 in /usr/local/lib/python3.10/dist-packages (from google-auth<3,>=1.6.3->tensorboard<2.16,>=2.15->tensorflow==2.15.0) (5.5.0)\n",
            "Requirement already satisfied: pyasn1-modules>=0.2.1 in /usr/local/lib/python3.10/dist-packages (from google-auth<3,>=1.6.3->tensorboard<2.16,>=2.15->tensorflow==2.15.0) (0.4.1)\n",
            "Requirement already satisfied: rsa<5,>=3.1.4 in /usr/local/lib/python3.10/dist-packages (from google-auth<3,>=1.6.3->tensorboard<2.16,>=2.15->tensorflow==2.15.0) (4.9)\n",
            "Requirement already satisfied: requests-oauthlib>=0.7.0 in /usr/local/lib/python3.10/dist-packages (from google-auth-oauthlib<2,>=0.5->tensorboard<2.16,>=2.15->tensorflow==2.15.0) (1.3.1)\n",
            "Requirement already satisfied: contourpy>=1.0.1 in /usr/local/lib/python3.10/dist-packages (from matplotlib~=3.0->cirq-core==1.3.0->tensorflow-quantum==0.7.3) (1.3.0)\n",
            "Requirement already satisfied: cycler>=0.10 in /usr/local/lib/python3.10/dist-packages (from matplotlib~=3.0->cirq-core==1.3.0->tensorflow-quantum==0.7.3) (0.12.1)\n",
            "Requirement already satisfied: fonttools>=4.22.0 in /usr/local/lib/python3.10/dist-packages (from matplotlib~=3.0->cirq-core==1.3.0->tensorflow-quantum==0.7.3) (4.54.1)\n",
            "Requirement already satisfied: kiwisolver>=1.0.1 in /usr/local/lib/python3.10/dist-packages (from matplotlib~=3.0->cirq-core==1.3.0->tensorflow-quantum==0.7.3) (1.4.7)\n",
            "Requirement already satisfied: pillow>=6.2.0 in /usr/local/lib/python3.10/dist-packages (from matplotlib~=3.0->cirq-core==1.3.0->tensorflow-quantum==0.7.3) (10.4.0)\n",
            "Requirement already satisfied: pyparsing>=2.3.1 in /usr/local/lib/python3.10/dist-packages (from matplotlib~=3.0->cirq-core==1.3.0->tensorflow-quantum==0.7.3) (3.2.0)\n",
            "Requirement already satisfied: python-dateutil>=2.7 in /usr/local/lib/python3.10/dist-packages (from matplotlib~=3.0->cirq-core==1.3.0->tensorflow-quantum==0.7.3) (2.8.2)\n",
            "Requirement already satisfied: charset-normalizer<4,>=2 in /usr/local/lib/python3.10/dist-packages (from requests<3,>=2.21.0->tensorboard<2.16,>=2.15->tensorflow==2.15.0) (3.4.0)\n",
            "Requirement already satisfied: idna<4,>=2.5 in /usr/local/lib/python3.10/dist-packages (from requests<3,>=2.21.0->tensorboard<2.16,>=2.15->tensorflow==2.15.0) (3.10)\n",
            "Requirement already satisfied: urllib3<3,>=1.21.1 in /usr/local/lib/python3.10/dist-packages (from requests<3,>=2.21.0->tensorboard<2.16,>=2.15->tensorflow==2.15.0) (2.2.3)\n",
            "Requirement already satisfied: certifi>=2017.4.17 in /usr/local/lib/python3.10/dist-packages (from requests<3,>=2.21.0->tensorboard<2.16,>=2.15->tensorflow==2.15.0) (2024.8.30)\n",
            "Requirement already satisfied: MarkupSafe>=2.1.1 in /usr/local/lib/python3.10/dist-packages (from werkzeug>=1.0.1->tensorboard<2.16,>=2.15->tensorflow==2.15.0) (3.0.2)\n",
            "Requirement already satisfied: pytz>=2020.1 in /usr/local/lib/python3.10/dist-packages (from pandas->cirq-core==1.3.0->tensorflow-quantum==0.7.3) (2024.2)\n",
            "Requirement already satisfied: tzdata>=2022.7 in /usr/local/lib/python3.10/dist-packages (from pandas->cirq-core==1.3.0->tensorflow-quantum==0.7.3) (2024.2)\n",
            "Requirement already satisfied: pyasn1<0.7.0,>=0.4.6 in /usr/local/lib/python3.10/dist-packages (from pyasn1-modules>=0.2.1->google-auth<3,>=1.6.3->tensorboard<2.16,>=2.15->tensorflow==2.15.0) (0.6.1)\n",
            "Requirement already satisfied: oauthlib>=3.0.0 in /usr/local/lib/python3.10/dist-packages (from requests-oauthlib>=0.7.0->google-auth-oauthlib<2,>=0.5->tensorboard<2.16,>=2.15->tensorflow==2.15.0) (3.2.2)\n",
            "Downloading tensorflow-2.15.0-cp310-cp310-manylinux_2_17_x86_64.manylinux2014_x86_64.whl (475.2 MB)\n",
            "\u001b[2K   \u001b[90m━━━━━━━━━━━━━━━━━━━━━━━━━━━━━━━━━━━━━━━━\u001b[0m \u001b[32m475.2/475.2 MB\u001b[0m \u001b[31m3.8 MB/s\u001b[0m eta \u001b[36m0:00:00\u001b[0m\n",
            "\u001b[?25hDownloading tensorflow_quantum-0.7.3-cp310-cp310-manylinux_2_17_x86_64.manylinux2014_x86_64.whl (12.8 MB)\n",
            "\u001b[2K   \u001b[90m━━━━━━━━━━━━━━━━━━━━━━━━━━━━━━━━━━━━━━━━\u001b[0m \u001b[32m12.8/12.8 MB\u001b[0m \u001b[31m38.2 MB/s\u001b[0m eta \u001b[36m0:00:00\u001b[0m\n",
            "\u001b[?25hDownloading cirq_core-1.3.0-py3-none-any.whl (1.8 MB)\n",
            "\u001b[2K   \u001b[90m━━━━━━━━━━━━━━━━━━━━━━━━━━━━━━━━━━━━━━━━\u001b[0m \u001b[32m1.8/1.8 MB\u001b[0m \u001b[31m59.1 MB/s\u001b[0m eta \u001b[36m0:00:00\u001b[0m\n",
            "\u001b[?25hDownloading cirq_google-1.3.0-py3-none-any.whl (598 kB)\n",
            "\u001b[2K   \u001b[90m━━━━━━━━━━━━━━━━━━━━━━━━━━━━━━━━━━━━━━━━\u001b[0m \u001b[32m598.8/598.8 kB\u001b[0m \u001b[31m37.4 MB/s\u001b[0m eta \u001b[36m0:00:00\u001b[0m\n",
            "\u001b[?25hDownloading sympy-1.12-py3-none-any.whl (5.7 MB)\n",
            "\u001b[2K   \u001b[90m━━━━━━━━━━━━━━━━━━━━━━━━━━━━━━━━━━━━━━━━\u001b[0m \u001b[32m5.7/5.7 MB\u001b[0m \u001b[31m67.7 MB/s\u001b[0m eta \u001b[36m0:00:00\u001b[0m\n",
            "\u001b[?25hDownloading keras-2.15.0-py3-none-any.whl (1.7 MB)\n",
            "\u001b[2K   \u001b[90m━━━━━━━━━━━━━━━━━━━━━━━━━━━━━━━━━━━━━━━━\u001b[0m \u001b[32m1.7/1.7 MB\u001b[0m \u001b[31m28.5 MB/s\u001b[0m eta \u001b[36m0:00:00\u001b[0m\n",
            "\u001b[?25hDownloading ml_dtypes-0.2.0-cp310-cp310-manylinux_2_17_x86_64.manylinux2014_x86_64.whl (1.0 MB)\n",
            "\u001b[2K   \u001b[90m━━━━━━━━━━━━━━━━━━━━━━━━━━━━━━━━━━━━━━━━\u001b[0m \u001b[32m1.0/1.0 MB\u001b[0m \u001b[31m47.0 MB/s\u001b[0m eta \u001b[36m0:00:00\u001b[0m\n",
            "\u001b[?25hDownloading tensorboard-2.15.2-py3-none-any.whl (5.5 MB)\n",
            "\u001b[2K   \u001b[90m━━━━━━━━━━━━━━━━━━━━━━━━━━━━━━━━━━━━━━━━\u001b[0m \u001b[32m5.5/5.5 MB\u001b[0m \u001b[31m63.3 MB/s\u001b[0m eta \u001b[36m0:00:00\u001b[0m\n",
            "\u001b[?25hDownloading tensorflow_estimator-2.15.0-py2.py3-none-any.whl (441 kB)\n",
            "\u001b[2K   \u001b[90m━━━━━━━━━━━━━━━━━━━━━━━━━━━━━━━━━━━━━━━━\u001b[0m \u001b[32m442.0/442.0 kB\u001b[0m \u001b[31m28.1 MB/s\u001b[0m eta \u001b[36m0:00:00\u001b[0m\n",
            "\u001b[?25hDownloading wrapt-1.14.1-cp310-cp310-manylinux_2_5_x86_64.manylinux1_x86_64.manylinux_2_17_x86_64.manylinux2014_x86_64.whl (77 kB)\n",
            "\u001b[2K   \u001b[90m━━━━━━━━━━━━━━━━━━━━━━━━━━━━━━━━━━━━━━━━\u001b[0m \u001b[32m77.9/77.9 kB\u001b[0m \u001b[31m6.8 MB/s\u001b[0m eta \u001b[36m0:00:00\u001b[0m\n",
            "\u001b[?25hDownloading duet-0.2.9-py3-none-any.whl (29 kB)\n",
            "Downloading sortedcontainers-2.4.0-py2.py3-none-any.whl (29 kB)\n",
            "Installing collected packages: sortedcontainers, wrapt, tensorflow-estimator, sympy, ml-dtypes, keras, duet, cirq-core, tensorboard, tensorflow, cirq-google, tensorflow-quantum\n",
            "  Attempting uninstall: wrapt\n",
            "    Found existing installation: wrapt 1.16.0\n",
            "    Uninstalling wrapt-1.16.0:\n",
            "      Successfully uninstalled wrapt-1.16.0\n",
            "  Attempting uninstall: sympy\n",
            "    Found existing installation: sympy 1.13.1\n",
            "    Uninstalling sympy-1.13.1:\n",
            "      Successfully uninstalled sympy-1.13.1\n",
            "  Attempting uninstall: ml-dtypes\n",
            "    Found existing installation: ml-dtypes 0.4.1\n",
            "    Uninstalling ml-dtypes-0.4.1:\n",
            "      Successfully uninstalled ml-dtypes-0.4.1\n",
            "  Attempting uninstall: keras\n",
            "    Found existing installation: keras 3.4.1\n",
            "    Uninstalling keras-3.4.1:\n",
            "      Successfully uninstalled keras-3.4.1\n",
            "  Attempting uninstall: tensorboard\n",
            "    Found existing installation: tensorboard 2.17.0\n",
            "    Uninstalling tensorboard-2.17.0:\n",
            "      Successfully uninstalled tensorboard-2.17.0\n",
            "  Attempting uninstall: tensorflow\n",
            "    Found existing installation: tensorflow 2.17.0\n",
            "    Uninstalling tensorflow-2.17.0:\n",
            "      Successfully uninstalled tensorflow-2.17.0\n",
            "\u001b[31mERROR: pip's dependency resolver does not currently take into account all the packages that are installed. This behaviour is the source of the following dependency conflicts.\n",
            "tensorstore 0.1.67 requires ml-dtypes>=0.3.1, but you have ml-dtypes 0.2.0 which is incompatible.\n",
            "tf-keras 2.17.0 requires tensorflow<2.18,>=2.17, but you have tensorflow 2.15.0 which is incompatible.\n",
            "torch 2.5.0+cu121 requires sympy==1.13.1; python_version >= \"3.9\", but you have sympy 1.12 which is incompatible.\u001b[0m\u001b[31m\n",
            "\u001b[0mSuccessfully installed cirq-core-1.3.0 cirq-google-1.3.0 duet-0.2.9 keras-2.15.0 ml-dtypes-0.2.0 sortedcontainers-2.4.0 sympy-1.12 tensorboard-2.15.2 tensorflow-2.15.0 tensorflow-estimator-2.15.0 tensorflow-quantum-0.7.3 wrapt-1.14.1\n"
          ]
        }
      ],
      "source": [
        "!pip install tensorflow==2.15.0 tensorflow-quantum==0.7.3"
      ]
    },
    {
      "cell_type": "code",
      "execution_count": 2,
      "metadata": {
        "colab": {
          "base_uri": "https://localhost:8080/"
        },
        "id": "4Ql5PW-ACO0J",
        "outputId": "ede8257a-b56f-42eb-cdde-ec020a620518"
      },
      "outputs": [
        {
          "output_type": "execute_result",
          "data": {
            "text/plain": [
              "<module 'pkg_resources' from '/usr/local/lib/python3.10/dist-packages/pkg_resources/__init__.py'>"
            ]
          },
          "metadata": {},
          "execution_count": 2
        }
      ],
      "source": [
        "# Update package resources to account for version changes.\n",
        "import importlib, pkg_resources\n",
        "importlib.reload(pkg_resources)"
      ]
    },
    {
      "cell_type": "code",
      "execution_count": 3,
      "metadata": {
        "id": "FTKfetslL5eE"
      },
      "outputs": [],
      "source": [
        "import cirq\n",
        "import sympy\n",
        "import numpy as np\n",
        "import tensorflow as tf\n",
        "import tensorflow_quantum as tfq\n",
        "\n",
        "# visualization tools\n",
        "%matplotlib inline\n",
        "import matplotlib.pyplot as plt\n",
        "from cirq.contrib.svg import SVGCircuit\n",
        "np.random.seed(0)"
      ]
    },
    {
      "cell_type": "markdown",
      "metadata": {
        "id": "jCOHgdILONs-"
      },
      "source": [
        "# Data preparation\n",
        "\n",
        "You will begin by preparing the fashion-MNIST dataset for running on a quantum computer."
      ]
    },
    {
      "cell_type": "markdown",
      "metadata": {
        "id": "GDl61cN6WPDk"
      },
      "source": [
        "## Download fashion-MNIST\n",
        "\n",
        "The first step is to get the traditional fashion-mnist dataset. This can be done using the `tf.keras.datasets` module."
      ]
    },
    {
      "cell_type": "code",
      "execution_count": 4,
      "metadata": {
        "colab": {
          "base_uri": "https://localhost:8080/"
        },
        "id": "VTKmzeH3MBvR",
        "outputId": "bb0447c5-ed8c-4c2b-b639-34a50f07effc"
      },
      "outputs": [
        {
          "output_type": "stream",
          "name": "stdout",
          "text": [
            "Downloading data from https://storage.googleapis.com/tensorflow/tf-keras-datasets/train-labels-idx1-ubyte.gz\n",
            "29515/29515 [==============================] - 0s 0us/step\n",
            "Downloading data from https://storage.googleapis.com/tensorflow/tf-keras-datasets/train-images-idx3-ubyte.gz\n",
            "26421880/26421880 [==============================] - 0s 0us/step\n",
            "Downloading data from https://storage.googleapis.com/tensorflow/tf-keras-datasets/t10k-labels-idx1-ubyte.gz\n",
            "5148/5148 [==============================] - 0s 0us/step\n",
            "Downloading data from https://storage.googleapis.com/tensorflow/tf-keras-datasets/t10k-images-idx3-ubyte.gz\n",
            "4422102/4422102 [==============================] - 0s 0us/step\n",
            "Number of original training examples: 60000\n",
            "Number of original test examples: 10000\n"
          ]
        }
      ],
      "source": [
        "(x_train, y_train), (x_test, y_test) = tf.keras.datasets.fashion_mnist.load_data()\n",
        "\n",
        "# Rescale the images from [0,255] to the [0.0,1.0] range.\n",
        "x_train, x_test = x_train/255.0, x_test/255.0\n",
        "\n",
        "print(\"Number of original training examples:\", len(x_train))\n",
        "print(\"Number of original test examples:\", len(x_test))"
      ]
    },
    {
      "cell_type": "markdown",
      "metadata": {
        "id": "jq3eeFv2PyQz"
      },
      "source": [
        "Filter the dataset to keep just the T-shirts/tops and dresses, remove the other classes. At the same time convert the label, `y`, to boolean: True for 0 and False for 3."
      ]
    },
    {
      "cell_type": "code",
      "execution_count": 5,
      "metadata": {
        "id": "LmprnNbDP4Z6"
      },
      "outputs": [],
      "source": [
        "def filter_03(x, y):\n",
        "    keep = (y == 0) | (y == 3)\n",
        "    x, y = x[keep], y[keep]\n",
        "    y = y == 0\n",
        "    return x,y"
      ]
    },
    {
      "cell_type": "code",
      "execution_count": 6,
      "metadata": {
        "colab": {
          "base_uri": "https://localhost:8080/"
        },
        "id": "KycvXPllQH-t",
        "outputId": "0303ccc0-2470-475f-dddc-0487011fc049"
      },
      "outputs": [
        {
          "output_type": "stream",
          "name": "stdout",
          "text": [
            "Number of filtered training examples: 12000\n",
            "Number of filtered test examples: 2000\n"
          ]
        }
      ],
      "source": [
        "x_train, y_train = filter_03(x_train, y_train)\n",
        "x_test, y_test = filter_03(x_test, y_test)\n",
        "\n",
        "print(\"Number of filtered training examples:\", len(x_train))\n",
        "print(\"Number of filtered test examples:\", len(x_test))"
      ]
    },
    {
      "cell_type": "code",
      "execution_count": 8,
      "metadata": {
        "colab": {
          "base_uri": "https://localhost:8080/",
          "height": 452
        },
        "id": "c-2Fx9E1O63h",
        "outputId": "b71a2531-2b7a-4333-a843-ef9601d9f763"
      },
      "outputs": [
        {
          "output_type": "stream",
          "name": "stdout",
          "text": [
            "True\n"
          ]
        },
        {
          "output_type": "display_data",
          "data": {
            "text/plain": [
              "<Figure size 640x480 with 2 Axes>"
            ],
            "image/png": "[encoded data removed]"
          },
          "metadata": {}
        }
      ],
      "source": [
        "print(y_train[0])\n",
        "\n",
        "plt.imshow(x_train[0, :, :])\n",
        "plt.colorbar()\n",
        "plt.show()"
      ]
    },
    {
      "cell_type": "markdown",
      "source": [
        "This image is a grayscale representation of an item from the Fashion-MNIST dataset, specifically depicting a T-shirt or top. The Fashion-MNIST dataset is a popular dataset used in machine learning and computer vision, containing images of various clothing items. Here’s a detailed explanation of the components in this image:\n",
        "\n",
        "1. **Image Content**:\n",
        "   - The item shown appears to be a T-shirt, one of the categories in the Fashion-MNIST dataset. This category is labeled as \"0\" in the dataset.\n",
        "\n",
        "2. **Pixel Grid (28x28)**:\n",
        "   - The image consists of a **28x28** pixel grid, which is the standard resolution for images in the Fashion-MNIST dataset.\n",
        "   - Each pixel value is normalized between 0 and 1, with **0** representing the darkest (black) and **1** representing the brightest (white). Intermediate values represent different shades of gray.\n",
        "\n",
        "3. **Color Map**:\n",
        "   - The color bar on the right shows the range of pixel intensities, with purple representing lower intensity values (closer to 0) and yellow representing higher intensity values (closer to 1).\n",
        "   - In this plot, the majority of the T-shirt is a greenish color, indicating intermediate intensity values, while the edges and some areas inside the T-shirt are closer to yellow, indicating brighter parts of the image.\n",
        "\n",
        "4. **Structure**:\n",
        "   - You can see the basic structure of a T-shirt with a collar, sleeves, and body in the image. The outline and certain details are visible due to the variations in pixel intensity, which correspond to different shades of gray.\n",
        "   - These features are distinguishable despite the low resolution, making it feasible for a machine learning model to classify it as a T-shirt.\n",
        "\n",
        "5. **Normalization**:\n",
        "   - This image is normalized, which is a typical preprocessing step in machine learning. Normalization scales pixel values to a range (in this case, 0 to 1) to make it easier for models to learn from the data.\n",
        "\n",
        "***Purpose in Machine Learning***\n",
        "This image would be one of the samples used for training or testing a classification model on Fashion-MNIST. The goal of such a model would be to correctly classify images into categories like T-shirts, trousers, coats, and other types of clothing. The simple structure and distinct shape make T-shirts easier to classify compared to other, more intricate clothing items in the dataset.\n",
        "\n",
        "This visualization is a useful way to inspect the dataset and understand how images appear after preprocessing, ensuring they are ready for model training and evaluation."
      ],
      "metadata": {
        "id": "9pmf5txU0I4g"
      }
    },
    {
      "cell_type": "markdown",
      "metadata": {
        "id": "4ASbMvu6SFST"
      },
      "source": [
        "## Downscale the images\n",
        "\n",
        "Just like the MNIST example, you will need to downscale these images in order to be within the boundaries for current quantum computers. This time however you will use a PCA transformation to reduce the dimensions instead of a `tf.image.resize` operation."
      ]
    },
    {
      "cell_type": "code",
      "execution_count": null,
      "metadata": {
        "id": "0_EvK2kJPKDk"
      },
      "outputs": [],
      "source": [
        "def truncate_x(x_train, x_test, n_components=10):\n",
        "  \"\"\"Perform PCA on image dataset keeping the top `n_components` components.\"\"\"\n",
        "  n_points_train = tf.gather(tf.shape(x_train), 0)\n",
        "  n_points_test = tf.gather(tf.shape(x_test), 0)\n",
        "\n",
        "  # Flatten to 1D\n",
        "  x_train = tf.reshape(x_train, [n_points_train, -1])\n",
        "  x_test = tf.reshape(x_test, [n_points_test, -1])\n",
        "\n",
        "  # Normalize.\n",
        "  feature_mean = tf.reduce_mean(x_train, axis=0)\n",
        "  x_train_normalized = x_train - feature_mean\n",
        "  x_test_normalized = x_test - feature_mean\n",
        "\n",
        "  # Truncate.\n",
        "  e_values, e_vectors = tf.linalg.eigh(tf.einsum('ji,jk->ik',\n",
        "                                                 x_train_normalized,\n",
        "                                                 x_train_normalized))\n",
        "\n",
        "  return tf.einsum('ij,jk->ik', x_train_normalized, e_vectors[:,-n_components:]), \\\n",
        "    tf.einsum('ij,jk->ik', x_test_normalized, e_vectors[:, -n_components:])"
      ]
    },
    {
      "cell_type": "code",
      "execution_count": null,
      "metadata": {
        "colab": {
          "base_uri": "https://localhost:8080/"
        },
        "id": "0WhtP5RRkYSI",
        "outputId": "022022a2-1bab-46e3-c6a2-db6f7cf7c52a"
      },
      "outputs": [
        {
          "output_type": "stream",
          "name": "stdout",
          "text": [
            "New datapoint dimension: 10\n"
          ]
        }
      ],
      "source": [
        "DATASET_DIM = 10\n",
        "x_train, x_test = truncate_x(x_train, x_test, n_components=DATASET_DIM)\n",
        "print(f'New datapoint dimension:', len(x_train[0]))"
      ]
    },
    {
      "cell_type": "markdown",
      "metadata": {
        "id": "RXAEeE50FS9G"
      },
      "source": [
        "The last step is to reduce the size of the dataset to just 1000 training datapoints and 200 testing datapoints."
      ]
    },
    {
      "cell_type": "code",
      "execution_count": null,
      "metadata": {
        "id": "EMxlW2kZDtvn"
      },
      "outputs": [],
      "source": [
        "N_TRAIN = 1000\n",
        "N_TEST = 200\n",
        "x_train, x_test = x_train[:N_TRAIN], x_test[:N_TEST]\n",
        "y_train, y_test = y_train[:N_TRAIN], y_test[:N_TEST]"
      ]
    },
    {
      "cell_type": "code",
      "execution_count": null,
      "metadata": {
        "colab": {
          "base_uri": "https://localhost:8080/"
        },
        "id": "P7vqUjDMGF2S",
        "outputId": "c338fb12-de14-48cb-d4f0-517f36645284"
      },
      "outputs": [
        {
          "output_type": "stream",
          "name": "stdout",
          "text": [
            "New number of training examples: 1000\n",
            "New number of test examples: 200\n"
          ]
        }
      ],
      "source": [
        "print(\"New number of training examples:\", len(x_train))\n",
        "print(\"New number of test examples:\", len(x_test))"
      ]
    },
    {
      "cell_type": "markdown",
      "metadata": {
        "id": "-26obVJtHQne"
      },
      "source": [
        "# Relabeling and computing PQK features"
      ]
    },
    {
      "cell_type": "markdown",
      "source": [
        "You will now prepare a \"stilted\" quantum dataset by incorporating quantum components and re-labeling the truncated fashion-MNIST dataset you've created above. In order to get the most seperation between quantum and classical methods, you will first prepare the PQK features and then relabel outputs based on their values."
      ],
      "metadata": {
        "id": "Lub_QSyqtGbD"
      }
    },
    {
      "cell_type": "markdown",
      "source": [
        "## Quantum encoding and PQK features"
      ],
      "metadata": {
        "id": "24MOePeJtCBm"
      }
    },
    {
      "cell_type": "markdown",
      "metadata": {
        "id": "SJEK8CwKWgC2"
      },
      "source": [
        "You will create a new set of features, based on `x_train`, `y_train`, `x_test` and `y_test` that is defined to be the 1-RDM on all qubits of:\n",
        "\n",
        "$V(x_{\\text{train}} / n_{\\text{trotter}}) ^ {n_{\\text{trotter}}} U_{\\text{1qb}} | 0 \\rangle$\n",
        "\n",
        "Where $U_\\text{1qb}$ is a wall of single qubit rotations and $V(\\hat{\\theta}) = e^{-i\\sum_i \\hat{\\theta_i} (X_i X_{i+1} + Y_i Y_{i+1} + Z_i Z_{i+1})}$\n",
        "\n",
        "First, you can generate the wall of single qubit rotations:"
      ]
    },
    {
      "cell_type": "code",
      "execution_count": null,
      "metadata": {
        "id": "hVTlHdGvEuaT"
      },
      "outputs": [],
      "source": [
        "def single_qubit_wall(qubits, rotations):\n",
        "  \"\"\"Prepare a single qubit X,Y,Z rotation wall on `qubits`.\"\"\"\n",
        "  wall_circuit = cirq.Circuit()\n",
        "  for i, qubit in enumerate(qubits):\n",
        "    for j, gate in enumerate([cirq.X, cirq.Y, cirq.Z]):\n",
        "      wall_circuit.append(gate(qubit) ** rotations[i][j])\n",
        "\n",
        "  return wall_circuit"
      ]
    },
    {
      "cell_type": "markdown",
      "metadata": {
        "id": "bCfFcs-nGFH5"
      },
      "source": [
        "You can quickly verify this works by looking at the circuit:"
      ]
    },
    {
      "cell_type": "code",
      "execution_count": null,
      "metadata": {
        "colab": {
          "base_uri": "https://localhost:8080/",
          "height": 499
        },
        "id": "tfJkWj88Fqwl",
        "outputId": "f25478b0-4299-4f10-8b1e-44f539de62e8"
      },
      "outputs": [
        {
          "output_type": "stream",
          "name": "stderr",
          "text": [
            "WARNING:matplotlib.font_manager:findfont: Font family 'Arial' not found.\n",
            "WARNING:matplotlib.font_manager:findfont: Font family 'Arial' not found.\n",
            "WARNING:matplotlib.font_manager:findfont: Font family 'Arial' not found.\n",
            "WARNING:matplotlib.font_manager:findfont: Font family 'Arial' not found.\n",
            "WARNING:matplotlib.font_manager:findfont: Font family 'Arial' not found.\n",
            "WARNING:matplotlib.font_manager:findfont: Font family 'Arial' not found.\n",
            "WARNING:matplotlib.font_manager:findfont: Font family 'Arial' not found.\n",
            "WARNING:matplotlib.font_manager:findfont: Font family 'Arial' not found.\n",
            "WARNING:matplotlib.font_manager:findfont: Font family 'Arial' not found.\n",
            "WARNING:matplotlib.font_manager:findfont: Font family 'Arial' not found.\n",
            "WARNING:matplotlib.font_manager:findfont: Font family 'Arial' not found.\n",
            "WARNING:matplotlib.font_manager:findfont: Font family 'Arial' not found.\n",
            "WARNING:matplotlib.font_manager:findfont: Font family 'Arial' not found.\n",
            "WARNING:matplotlib.font_manager:findfont: Font family 'Arial' not found.\n",
            "WARNING:matplotlib.font_manager:findfont: Font family 'Arial' not found.\n",
            "WARNING:matplotlib.font_manager:findfont: Font family 'Arial' not found.\n"
          ]
        },
        {
          "output_type": "execute_result",
          "data": {
            "text/plain": [
              "<cirq.contrib.svg.svg.SVGCircuit at 0x7b6a33342410>"
            ],
            "image/svg+xml": "<svg xmlns=\"http://www.w3.org/2000/svg\" width=\"381.1707421875\" height=\"200.0\"><line x1=\"34.7588671875\" x2=\"351.1707421875\" y1=\"25.0\" y2=\"25.0\" stroke=\"#1967d2\" stroke-width=\"1\" /><line x1=\"34.7588671875\" x2=\"351.1707421875\" y1=\"75.0\" y2=\"75.0\" stroke=\"#1967d2\" stroke-width=\"1\" /><line x1=\"34.7588671875\" x2=\"351.1707421875\" y1=\"125.0\" y2=\"125.0\" stroke=\"#1967d2\" stroke-width=\"1\" /><line x1=\"34.7588671875\" x2=\"351.1707421875\" y1=\"175.0\" y2=\"175.0\" stroke=\"#1967d2\" stroke-width=\"1\" /><rect x=\"10.0\" y=\"5.0\" width=\"49.517734375\" height=\"40\" stroke=\"black\" fill=\"white\" stroke-width=\"0\" /><text x=\"34.7588671875\" y=\"25.0\" dominant-baseline=\"middle\" text-anchor=\"middle\" font-size=\"14px\" font-family=\"Arial:style=normal:variant=normal:weight=normal:stretch=normal:size=10.0\">(0, 0): </text><rect x=\"10.0\" y=\"55.0\" width=\"49.517734375\" height=\"40\" stroke=\"black\" fill=\"white\" stroke-width=\"0\" /><text x=\"34.7588671875\" y=\"75.0\" dominant-baseline=\"middle\" text-anchor=\"middle\" font-size=\"14px\" font-family=\"Arial:style=normal:variant=normal:weight=normal:stretch=normal:size=10.0\">(0, 1): </text><rect x=\"10.0\" y=\"105.0\" width=\"49.517734375\" height=\"40\" stroke=\"black\" fill=\"white\" stroke-width=\"0\" /><text x=\"34.7588671875\" y=\"125.0\" dominant-baseline=\"middle\" text-anchor=\"middle\" font-size=\"14px\" font-family=\"Arial:style=normal:variant=normal:weight=normal:stretch=normal:size=10.0\">(0, 2): </text><rect x=\"10.0\" y=\"155.0\" width=\"49.517734375\" height=\"40\" stroke=\"black\" fill=\"white\" stroke-width=\"0\" /><text x=\"34.7588671875\" y=\"175.0\" dominant-baseline=\"middle\" text-anchor=\"middle\" font-size=\"14px\" font-family=\"Arial:style=normal:variant=normal:weight=normal:stretch=normal:size=10.0\">(0, 3): </text><rect x=\"79.517734375\" y=\"5.0\" width=\"72.0629296875\" height=\"40\" stroke=\"black\" fill=\"white\" stroke-width=\"1\" /><text x=\"115.54919921875\" y=\"25.0\" dominant-baseline=\"middle\" text-anchor=\"middle\" font-size=\"14px\" font-family=\"Arial:style=normal:variant=normal:weight=normal:stretch=normal:size=10.0\">X^0.549</text><rect x=\"79.517734375\" y=\"55.0\" width=\"72.0629296875\" height=\"40\" stroke=\"black\" fill=\"white\" stroke-width=\"1\" /><text x=\"115.54919921875\" y=\"75.0\" dominant-baseline=\"middle\" text-anchor=\"middle\" font-size=\"14px\" font-family=\"Arial:style=normal:variant=normal:weight=normal:stretch=normal:size=10.0\">X^(6/11)</text><rect x=\"79.517734375\" y=\"105.0\" width=\"72.0629296875\" height=\"40\" stroke=\"black\" fill=\"white\" stroke-width=\"1\" /><text x=\"115.54919921875\" y=\"125.0\" dominant-baseline=\"middle\" text-anchor=\"middle\" font-size=\"14px\" font-family=\"Arial:style=normal:variant=normal:weight=normal:stretch=normal:size=10.0\">X^(7/16)</text><rect x=\"79.517734375\" y=\"155.0\" width=\"72.0629296875\" height=\"40\" stroke=\"black\" fill=\"white\" stroke-width=\"1\" /><text x=\"115.54919921875\" y=\"175.0\" dominant-baseline=\"middle\" text-anchor=\"middle\" font-size=\"14px\" font-family=\"Arial:style=normal:variant=normal:weight=normal:stretch=normal:size=10.0\">X^0.383</text><rect x=\"171.5806640625\" y=\"5.0\" width=\"69.6047265625\" height=\"40\" stroke=\"black\" fill=\"white\" stroke-width=\"1\" /><text x=\"206.38302734375\" y=\"25.0\" dominant-baseline=\"middle\" text-anchor=\"middle\" font-size=\"14px\" font-family=\"Arial:style=normal:variant=normal:weight=normal:stretch=normal:size=10.0\">Y^(5/7)</text><rect x=\"171.5806640625\" y=\"55.0\" width=\"69.6047265625\" height=\"40\" stroke=\"black\" fill=\"white\" stroke-width=\"1\" /><text x=\"206.38302734375\" y=\"75.0\" dominant-baseline=\"middle\" text-anchor=\"middle\" font-size=\"14px\" font-family=\"Arial:style=normal:variant=normal:weight=normal:stretch=normal:size=10.0\">Y^0.424</text><rect x=\"171.5806640625\" y=\"105.0\" width=\"69.6047265625\" height=\"40\" stroke=\"black\" fill=\"white\" stroke-width=\"1\" /><text x=\"206.38302734375\" y=\"125.0\" dominant-baseline=\"middle\" text-anchor=\"middle\" font-size=\"14px\" font-family=\"Arial:style=normal:variant=normal:weight=normal:stretch=normal:size=10.0\">Y^0.892</text><rect x=\"171.5806640625\" y=\"155.0\" width=\"69.6047265625\" height=\"40\" stroke=\"black\" fill=\"white\" stroke-width=\"1\" /><text x=\"206.38302734375\" y=\"175.0\" dominant-baseline=\"middle\" text-anchor=\"middle\" font-size=\"14px\" font-family=\"Arial:style=normal:variant=normal:weight=normal:stretch=normal:size=10.0\">Y^0.792</text><rect x=\"261.185390625\" y=\"5.0\" width=\"69.9853515625\" height=\"40\" stroke=\"black\" fill=\"white\" stroke-width=\"1\" /><text x=\"296.17806640625\" y=\"25.0\" dominant-baseline=\"middle\" text-anchor=\"middle\" font-size=\"14px\" font-family=\"Arial:style=normal:variant=normal:weight=normal:stretch=normal:size=10.0\">Z^0.603</text><rect x=\"261.185390625\" y=\"55.0\" width=\"69.9853515625\" height=\"40\" stroke=\"black\" fill=\"white\" stroke-width=\"1\" /><text x=\"296.17806640625\" y=\"75.0\" dominant-baseline=\"middle\" text-anchor=\"middle\" font-size=\"14px\" font-family=\"Arial:style=normal:variant=normal:weight=normal:stretch=normal:size=10.0\">Z^0.646</text><rect x=\"261.185390625\" y=\"105.0\" width=\"69.9853515625\" height=\"40\" stroke=\"black\" fill=\"white\" stroke-width=\"1\" /><text x=\"296.17806640625\" y=\"125.0\" dominant-baseline=\"middle\" text-anchor=\"middle\" font-size=\"14px\" font-family=\"Arial:style=normal:variant=normal:weight=normal:stretch=normal:size=10.0\">Z^0.964</text><rect x=\"261.185390625\" y=\"155.0\" width=\"69.9853515625\" height=\"40\" stroke=\"black\" fill=\"white\" stroke-width=\"1\" /><text x=\"296.17806640625\" y=\"175.0\" dominant-baseline=\"middle\" text-anchor=\"middle\" font-size=\"14px\" font-family=\"Arial:style=normal:variant=normal:weight=normal:stretch=normal:size=10.0\">Z^0.529</text></svg>"
          },
          "metadata": {},
          "execution_count": 18
        }
      ],
      "source": [
        "SVGCircuit(single_qubit_wall(\n",
        "    cirq.GridQubit.rect(1,4), np.random.uniform(size=(4, 3))))"
      ]
    },
    {
      "cell_type": "markdown",
      "source": [
        "This image is a visual representation of quantum gate operations applied to a qubit in a circuit, with each row representing a different set of gate operations on a qubit at various stages.\n",
        "\n",
        "Here's a breakdown of what each element means:\n",
        "\n",
        "1. **Grid Coordinates (Left Column)**: The coordinates on the left, like `(0, 0)`, `(0, 1)`, etc., may indicate the position of each qubit in a grid-like arrangement, possibly part of a multi-qubit system. This notation suggests that each row represents a specific qubit in the quantum system and the sequence of operations applied to it.\n",
        "\n",
        "2. **Quantum Gates**:\n",
        "   - `X^a`, `Y^b`, and `Z^c` represent rotations along the X, Y, and Z axes, respectively.\n",
        "   - For example, `X^0.549` means a rotation around the X-axis by a certain angle proportional to `0.549`. Similarly, `Y^(5/7)` and `Z^0.603` indicate rotations around the Y and Z axes by corresponding angles.\n",
        "   \n",
        "   These rotations are often parameterized by angles (here represented by the numbers next to each gate) and are used in quantum circuits to manipulate the qubit's state.\n",
        "\n",
        "3. **Values**:\n",
        "   - Each gate has a specific exponent value. For instance:\n",
        "     - `(0, 0)`: `X^0.549`, `Y^(5/7)`, `Z^0.603`\n",
        "     - `(0, 1)`: `X^(6/11)`, `Y^0.424`, `Z^0.646`\n",
        "   - These values specify how much the qubit's state should be rotated around each respective axis, which is crucial in configuring the qubit to achieve desired quantum states.\n",
        "\n",
        "4. **Purpose of the Operations**:\n",
        "   - Applying different rotations to each qubit can create superpositions, entangle qubits, or prepare the qubits in specific quantum states for further processing. In many quantum algorithms, such parameterized rotations are used to adjust the qubits based on the data or the desired outcome of the computation.\n",
        "\n",
        "5. **Structure**:\n",
        "   - The structure suggests a layered application of gates on each qubit, with each row showing a sequence of operations for a particular qubit in the circuit. This is common in variational quantum circuits, where qubit states are tuned iteratively for optimization tasks.\n",
        "\n",
        "In summary, this image represents the operations of a parameterized quantum circuit where different qubits are rotated along various axes by specific angles, a process often seen in quantum machine learning or optimization tasks."
      ],
      "metadata": {
        "id": "OLuvFNnIuBV8"
      }
    },
    {
      "cell_type": "markdown",
      "metadata": {
        "id": "gPniCQWnHGXz"
      },
      "source": [
        "Next you can prepare $V(\\hat{\\theta})$ with the help of `tfq.util.exponential` which can exponentiate any commuting `cirq.PauliSum` objects:"
      ]
    },
    {
      "cell_type": "code",
      "execution_count": null,
      "metadata": {
        "id": "4w2em6c0HOIO"
      },
      "outputs": [],
      "source": [
        "def v_theta(qubits):\n",
        "  \"\"\"Prepares a circuit that generates V(\\theta).\"\"\"\n",
        "  ref_paulis = [\n",
        "      cirq.X(q0) * cirq.X(q1) + \\\n",
        "      cirq.Y(q0) * cirq.Y(q1) + \\\n",
        "      cirq.Z(q0) * cirq.Z(q1) for q0, q1 in zip(qubits, qubits[1:])\n",
        "  ]\n",
        "  exp_symbols = list(sympy.symbols('ref_0:'+str(len(ref_paulis))))\n",
        "  return tfq.util.exponential(ref_paulis, exp_symbols), exp_symbols"
      ]
    },
    {
      "cell_type": "markdown",
      "metadata": {
        "id": "bo6ArnnqIkTL"
      },
      "source": [
        "This circuit might be a little bit harder to verify by looking at, but you can still examine a two qubit case to see what is happening:"
      ]
    },
    {
      "cell_type": "code",
      "execution_count": null,
      "metadata": {
        "colab": {
          "base_uri": "https://localhost:8080/",
          "height": 592
        },
        "id": "r7YIeOrzJDlT",
        "outputId": "f82502b4-925b-41b4-9a6d-61cd00258901"
      },
      "outputs": [
        {
          "output_type": "stream",
          "name": "stderr",
          "text": [
            "WARNING:matplotlib.font_manager:findfont: Font family 'Arial' not found.\n",
            "WARNING:matplotlib.font_manager:findfont: Font family 'Arial' not found.\n",
            "WARNING:matplotlib.font_manager:findfont: Font family 'Arial' not found.\n",
            "WARNING:matplotlib.font_manager:findfont: Font family 'Arial' not found.\n",
            "WARNING:matplotlib.font_manager:findfont: Font family 'Arial' not found.\n",
            "WARNING:matplotlib.font_manager:findfont: Font family 'Arial' not found.\n",
            "WARNING:matplotlib.font_manager:findfont: Font family 'Arial' not found.\n",
            "WARNING:matplotlib.font_manager:findfont: Font family 'Arial' not found.\n",
            "WARNING:matplotlib.font_manager:findfont: Font family 'Arial' not found.\n",
            "WARNING:matplotlib.font_manager:findfont: Font family 'Arial' not found.\n",
            "WARNING:matplotlib.font_manager:findfont: Font family 'Arial' not found.\n",
            "WARNING:matplotlib.font_manager:findfont: Font family 'Arial' not found.\n",
            "WARNING:matplotlib.font_manager:findfont: Font family 'Arial' not found.\n"
          ]
        },
        {
          "output_type": "stream",
          "name": "stdout",
          "text": [
            "Symbols found in circuit:[ref_0]\n"
          ]
        },
        {
          "output_type": "stream",
          "name": "stderr",
          "text": [
            "WARNING:matplotlib.font_manager:findfont: Font family 'Arial' not found.\n",
            "WARNING:matplotlib.font_manager:findfont: Font family 'Arial' not found.\n",
            "WARNING:matplotlib.font_manager:findfont: Font family 'Arial' not found.\n",
            "WARNING:matplotlib.font_manager:findfont: Font family 'Arial' not found.\n",
            "WARNING:matplotlib.font_manager:findfont: Font family 'Arial' not found.\n",
            "WARNING:matplotlib.font_manager:findfont: Font family 'Arial' not found.\n",
            "WARNING:matplotlib.font_manager:findfont: Font family 'Arial' not found.\n",
            "WARNING:matplotlib.font_manager:findfont: Font family 'Arial' not found.\n",
            "WARNING:matplotlib.font_manager:findfont: Font family 'Arial' not found.\n",
            "WARNING:matplotlib.font_manager:findfont: Font family 'Arial' not found.\n",
            "WARNING:matplotlib.font_manager:findfont: Font family 'Arial' not found.\n",
            "WARNING:matplotlib.font_manager:findfont: Font family 'Arial' not found.\n"
          ]
        },
        {
          "output_type": "execute_result",
          "data": {
            "text/plain": [
              "<cirq.contrib.svg.svg.SVGCircuit at 0x7b6a333427d0>"
            ],
            "image/svg+xml": "<svg xmlns=\"http://www.w3.org/2000/svg\" width=\"1127.4104296875\" height=\"100.0\"><line x1=\"34.7588671875\" x2=\"1097.4104296875\" y1=\"25.0\" y2=\"25.0\" stroke=\"#1967d2\" stroke-width=\"1\" /><line x1=\"34.7588671875\" x2=\"1097.4104296875\" y1=\"75.0\" y2=\"75.0\" stroke=\"#1967d2\" stroke-width=\"1\" /><line x1=\"159.517734375\" x2=\"159.517734375\" y1=\"25.0\" y2=\"75.0\" stroke=\"black\" stroke-width=\"3\" /><line x1=\"339.09585937500003\" x2=\"339.09585937500003\" y1=\"25.0\" y2=\"75.0\" stroke=\"black\" stroke-width=\"3\" /><line x1=\"546.149140625\" x2=\"546.149140625\" y1=\"25.0\" y2=\"75.0\" stroke=\"black\" stroke-width=\"3\" /><line x1=\"725.727265625\" x2=\"725.727265625\" y1=\"25.0\" y2=\"75.0\" stroke=\"black\" stroke-width=\"3\" /><line x1=\"877.8323046875\" x2=\"877.8323046875\" y1=\"25.0\" y2=\"75.0\" stroke=\"black\" stroke-width=\"3\" /><line x1=\"1057.4104296875\" x2=\"1057.4104296875\" y1=\"25.0\" y2=\"75.0\" stroke=\"black\" stroke-width=\"3\" /><rect x=\"10.0\" y=\"5.0\" width=\"49.517734375\" height=\"40\" stroke=\"black\" fill=\"white\" stroke-width=\"0\" /><text x=\"34.7588671875\" y=\"25.0\" dominant-baseline=\"middle\" text-anchor=\"middle\" font-size=\"14px\" font-family=\"Arial:style=normal:variant=normal:weight=normal:stretch=normal:size=10.0\">(0, 0): </text><rect x=\"10.0\" y=\"55.0\" width=\"49.517734375\" height=\"40\" stroke=\"black\" fill=\"white\" stroke-width=\"0\" /><text x=\"34.7588671875\" y=\"75.0\" dominant-baseline=\"middle\" text-anchor=\"middle\" font-size=\"14px\" font-family=\"Arial:style=normal:variant=normal:weight=normal:stretch=normal:size=10.0\">(0, 1): </text><rect x=\"79.517734375\" y=\"5.0\" width=\"40\" height=\"40\" stroke=\"black\" fill=\"white\" stroke-width=\"1\" /><text x=\"99.517734375\" y=\"25.0\" dominant-baseline=\"middle\" text-anchor=\"middle\" font-size=\"18px\" font-family=\"Arial:style=normal:variant=normal:weight=normal:stretch=normal:size=10.0\">H</text><rect x=\"79.517734375\" y=\"55.0\" width=\"40\" height=\"40\" stroke=\"black\" fill=\"white\" stroke-width=\"1\" /><text x=\"99.517734375\" y=\"75.0\" dominant-baseline=\"middle\" text-anchor=\"middle\" font-size=\"18px\" font-family=\"Arial:style=normal:variant=normal:weight=normal:stretch=normal:size=10.0\">H</text><circle cx=\"159.517734375\" cy=\"25.0\" r=\"10.0\" /><rect x=\"139.517734375\" y=\"55.0\" width=\"40\" height=\"40\" stroke=\"black\" fill=\"white\" stroke-width=\"1\" /><text x=\"159.517734375\" y=\"75.0\" dominant-baseline=\"middle\" text-anchor=\"middle\" font-size=\"18px\" font-family=\"Arial:style=normal:variant=normal:weight=normal:stretch=normal:size=10.0\">X</text><rect x=\"199.517734375\" y=\"55.0\" width=\"99.57812500000001\" height=\"40\" stroke=\"black\" fill=\"white\" stroke-width=\"1\" /><text x=\"249.306796875\" y=\"75.0\" dominant-baseline=\"middle\" text-anchor=\"middle\" font-size=\"14px\" font-family=\"Arial:style=normal:variant=normal:weight=normal:stretch=normal:size=10.0\">Rz(2.0*ref_0)</text><circle cx=\"339.09585937500003\" cy=\"25.0\" r=\"10.0\" /><rect x=\"319.09585937500003\" y=\"55.0\" width=\"40\" height=\"40\" stroke=\"black\" fill=\"white\" stroke-width=\"1\" /><text x=\"339.09585937500003\" y=\"75.0\" dominant-baseline=\"middle\" text-anchor=\"middle\" font-size=\"18px\" font-family=\"Arial:style=normal:variant=normal:weight=normal:stretch=normal:size=10.0\">X</text><rect x=\"379.09585937500003\" y=\"55.0\" width=\"40\" height=\"40\" stroke=\"black\" fill=\"white\" stroke-width=\"1\" /><text x=\"399.09585937500003\" y=\"75.0\" dominant-baseline=\"middle\" text-anchor=\"middle\" font-size=\"18px\" font-family=\"Arial:style=normal:variant=normal:weight=normal:stretch=normal:size=10.0\">H</text><rect x=\"379.09585937500003\" y=\"5.0\" width=\"40\" height=\"40\" stroke=\"black\" fill=\"white\" stroke-width=\"1\" /><text x=\"399.09585937500003\" y=\"25.0\" dominant-baseline=\"middle\" text-anchor=\"middle\" font-size=\"18px\" font-family=\"Arial:style=normal:variant=normal:weight=normal:stretch=normal:size=10.0\">H</text><rect x=\"439.09585937500003\" y=\"5.0\" width=\"67.05328125\" height=\"40\" stroke=\"black\" fill=\"white\" stroke-width=\"1\" /><text x=\"472.62250000000006\" y=\"25.0\" dominant-baseline=\"middle\" text-anchor=\"middle\" font-size=\"14px\" font-family=\"Arial:style=normal:variant=normal:weight=normal:stretch=normal:size=10.0\">Rx(0.5π)</text><rect x=\"439.09585937500003\" y=\"55.0\" width=\"67.05328125\" height=\"40\" stroke=\"black\" fill=\"white\" stroke-width=\"1\" /><text x=\"472.62250000000006\" y=\"75.0\" dominant-baseline=\"middle\" text-anchor=\"middle\" font-size=\"14px\" font-family=\"Arial:style=normal:variant=normal:weight=normal:stretch=normal:size=10.0\">Rx(0.5π)</text><circle cx=\"546.149140625\" cy=\"25.0\" r=\"10.0\" /><rect x=\"526.149140625\" y=\"55.0\" width=\"40\" height=\"40\" stroke=\"black\" fill=\"white\" stroke-width=\"1\" /><text x=\"546.149140625\" y=\"75.0\" dominant-baseline=\"middle\" text-anchor=\"middle\" font-size=\"18px\" font-family=\"Arial:style=normal:variant=normal:weight=normal:stretch=normal:size=10.0\">X</text><rect x=\"586.149140625\" y=\"55.0\" width=\"99.57812500000001\" height=\"40\" stroke=\"black\" fill=\"white\" stroke-width=\"1\" /><text x=\"635.938203125\" y=\"75.0\" dominant-baseline=\"middle\" text-anchor=\"middle\" font-size=\"14px\" font-family=\"Arial:style=normal:variant=normal:weight=normal:stretch=normal:size=10.0\">Rz(2.0*ref_0)</text><circle cx=\"725.727265625\" cy=\"25.0\" r=\"10.0\" /><rect x=\"705.727265625\" y=\"55.0\" width=\"40\" height=\"40\" stroke=\"black\" fill=\"white\" stroke-width=\"1\" /><text x=\"725.727265625\" y=\"75.0\" dominant-baseline=\"middle\" text-anchor=\"middle\" font-size=\"18px\" font-family=\"Arial:style=normal:variant=normal:weight=normal:stretch=normal:size=10.0\">X</text><rect x=\"765.727265625\" y=\"55.0\" width=\"72.1050390625\" height=\"40\" stroke=\"black\" fill=\"white\" stroke-width=\"1\" /><text x=\"801.77978515625\" y=\"75.0\" dominant-baseline=\"middle\" text-anchor=\"middle\" font-size=\"14px\" font-family=\"Arial:style=normal:variant=normal:weight=normal:stretch=normal:size=10.0\">Rx(-0.5π)</text><rect x=\"765.727265625\" y=\"5.0\" width=\"72.1050390625\" height=\"40\" stroke=\"black\" fill=\"white\" stroke-width=\"1\" /><text x=\"801.77978515625\" y=\"25.0\" dominant-baseline=\"middle\" text-anchor=\"middle\" font-size=\"14px\" font-family=\"Arial:style=normal:variant=normal:weight=normal:stretch=normal:size=10.0\">Rx(-0.5π)</text><circle cx=\"877.8323046875\" cy=\"25.0\" r=\"10.0\" /><rect x=\"857.8323046875\" y=\"55.0\" width=\"40\" height=\"40\" stroke=\"black\" fill=\"white\" stroke-width=\"1\" /><text x=\"877.8323046875\" y=\"75.0\" dominant-baseline=\"middle\" text-anchor=\"middle\" font-size=\"18px\" font-family=\"Arial:style=normal:variant=normal:weight=normal:stretch=normal:size=10.0\">X</text><rect x=\"917.8323046875\" y=\"55.0\" width=\"99.57812500000001\" height=\"40\" stroke=\"black\" fill=\"white\" stroke-width=\"1\" /><text x=\"967.6213671875\" y=\"75.0\" dominant-baseline=\"middle\" text-anchor=\"middle\" font-size=\"14px\" font-family=\"Arial:style=normal:variant=normal:weight=normal:stretch=normal:size=10.0\">Rz(2.0*ref_0)</text><circle cx=\"1057.4104296875\" cy=\"25.0\" r=\"10.0\" /><rect x=\"1037.4104296875\" y=\"55.0\" width=\"40\" height=\"40\" stroke=\"black\" fill=\"white\" stroke-width=\"1\" /><text x=\"1057.4104296875\" y=\"75.0\" dominant-baseline=\"middle\" text-anchor=\"middle\" font-size=\"18px\" font-family=\"Arial:style=normal:variant=normal:weight=normal:stretch=normal:size=10.0\">X</text></svg>"
          },
          "metadata": {},
          "execution_count": 20
        }
      ],
      "source": [
        "test_circuit, test_symbols = v_theta(cirq.GridQubit.rect(1, 2))\n",
        "print(f'Symbols found in circuit:{test_symbols}')\n",
        "SVGCircuit(test_circuit)"
      ]
    },
    {
      "cell_type": "markdown",
      "source": [
        "This image represents a quantum circuit involving two qubits, labeled as `(0, 0)` and `(0, 1)`, and illustrates the sequence of operations applied to each qubit. Let’s go through the components step by step:\n",
        "\n",
        "1. **Qubits (0, 0) and (0, 1)**:\n",
        "   - Each row corresponds to a qubit in the circuit. The operations on each row apply to that particular qubit.\n",
        "\n",
        "2. **Hadamard Gates (`H`)**:\n",
        "   - The `H` gate is applied at various points in the circuit, creating superpositions by transforming the qubit from a basis state (|0⟩ or |1⟩) into an equal superposition of both states. This gate is commonly used in quantum circuits to enable interference effects by putting qubits into a balanced superposition.\n",
        "\n",
        "3. **Controlled-X (CNOT) Gates**:\n",
        "   - The black circle connected to an \"X\" gate represents a controlled-X (CNOT) gate. The CNOT gate applies the `X` (or NOT) operation to the target qubit (the qubit with \"X\" on it) only if the control qubit (the qubit with the black dot) is in the |1⟩ state.\n",
        "   - In this circuit, the CNOT gates are used to create entanglement between the two qubits, establishing a dependency in their states.\n",
        "\n",
        "4. **Rotation Gates (`Rz` and `Rx`)**:\n",
        "   - `Rz(2.0 * ref_0)`: The `Rz` gate applies a rotation around the Z-axis by an angle determined by the expression `(2.0 * ref_0)`. This parameter might be a variable used to adjust the angle dynamically.\n",
        "   - `Rx(0.5π)` and `Rx(-0.5π)`: The `Rx` gate applies a rotation around the X-axis by either `0.5π` or `-0.5π`. These rotations change the probability amplitudes of the qubit's state, contributing to the evolution of the quantum state in a way that is sensitive to the parameters chosen.\n",
        "\n",
        "5. **Sequence of Operations**:\n",
        "   - The circuit starts with Hadamard gates on both qubits, putting them into superposition.\n",
        "   - A controlled-X gate is applied to entangle the two qubits.\n",
        "   - An `Rz` gate with a parameterized rotation, followed by additional Hadamard gates and `Rx` rotations, further modifies the qubits.\n",
        "   - The controlled-X gates interspersed throughout continue to entangle and disentangle the qubits as the circuit progresses.\n",
        "   - This pattern of Hadamard, rotation, and controlled operations is often used in quantum algorithms for tasks that require controlled interference, entanglement, and parameterized adjustments.\n",
        "\n",
        "6. **Purpose**:\n",
        "   - This circuit design suggests that it could be part of a parameterized quantum algorithm or a variational quantum circuit. The use of `Rx` and `Rz` rotations with specific parameters and the inclusion of CNOT gates imply a setup where the qubits are prepared in a specific state, possibly for a quantum machine learning application, optimization, or variational task.\n",
        "\n",
        "In summary, this quantum circuit employs a combination of superposition (Hadamard gates), entanglement (CNOT gates), and parameterized rotations (`Rx` and `Rz` gates) to prepare a specific quantum state for further processing or measurement. The presence of adjustable parameters (`ref_0`) indicates that this circuit may be designed to adapt to different inputs or optimization steps."
      ],
      "metadata": {
        "id": "YN-UCeYruj_P"
      }
    },
    {
      "cell_type": "markdown",
      "metadata": {
        "id": "SN8oWtEXJXj-"
      },
      "source": [
        "Now you have all the building blocks you need to put your full encoding circuits together:"
      ]
    },
    {
      "cell_type": "code",
      "execution_count": null,
      "metadata": {
        "id": "LReAUF6CSwn5"
      },
      "outputs": [],
      "source": [
        "def prepare_pqk_circuits(qubits, classical_source, n_trotter=10):\n",
        "  \"\"\"Prepare the pqk feature circuits around a dataset.\"\"\"\n",
        "  n_qubits = len(qubits)\n",
        "  n_points = len(classical_source)\n",
        "\n",
        "  # Prepare random single qubit rotation wall.\n",
        "  random_rots = np.random.uniform(-2, 2, size=(n_qubits, 3))\n",
        "  initial_U = single_qubit_wall(qubits, random_rots)\n",
        "\n",
        "  # Prepare parametrized V\n",
        "  V_circuit, symbols = v_theta(qubits)\n",
        "  exp_circuit = cirq.Circuit(V_circuit for t in range(n_trotter))\n",
        "\n",
        "  # Convert to `tf.Tensor`\n",
        "  initial_U_tensor = tfq.convert_to_tensor([initial_U])\n",
        "  initial_U_splat = tf.tile(initial_U_tensor, [n_points])\n",
        "\n",
        "  full_circuits = tfq.layers.AddCircuit()(\n",
        "      initial_U_splat, append=exp_circuit)\n",
        "  # Replace placeholders in circuits with values from `classical_source`.\n",
        "  return tfq.resolve_parameters(\n",
        "      full_circuits, tf.convert_to_tensor([str(x) for x in symbols]),\n",
        "      tf.convert_to_tensor(classical_source*(n_qubits/3)/n_trotter))"
      ]
    },
    {
      "cell_type": "markdown",
      "metadata": {
        "id": "yNliqKFdYacD"
      },
      "source": [
        "Choose some qubits and prepare the data encoding circuits:"
      ]
    },
    {
      "cell_type": "code",
      "execution_count": null,
      "metadata": {
        "id": "5F47SaRERKx_"
      },
      "outputs": [],
      "source": [
        "qubits = cirq.GridQubit.rect(1, DATASET_DIM + 1)\n",
        "q_x_train_circuits = prepare_pqk_circuits(qubits, x_train)\n",
        "q_x_test_circuits = prepare_pqk_circuits(qubits, x_test)"
      ]
    },
    {
      "cell_type": "markdown",
      "metadata": {
        "id": "DD1ojMb5PbOG"
      },
      "source": [
        "Next, compute the PQK features based on the 1-RDM of the dataset circuits above and store the results in `rdm`, a `tf.Tensor` with shape `[n_points, n_qubits, 3]`. The entries in `rdm[i][j][k]` = $\\langle \\psi_i | OP^k_j | \\psi_i \\rangle$ where `i` indexes over datapoints, `j` indexes over qubits and `k` indexes over $\\lbrace \\hat{X}, \\hat{Y}, \\hat{Z} \\rbrace$ ."
      ]
    },
    {
      "cell_type": "code",
      "execution_count": null,
      "metadata": {
        "id": "cEGko5t-SZ14"
      },
      "outputs": [],
      "source": [
        "def get_pqk_features(qubits, data_batch):\n",
        "  \"\"\"Get PQK features based on above construction.\"\"\"\n",
        "  ops = [[cirq.X(q), cirq.Y(q), cirq.Z(q)] for q in qubits]\n",
        "  ops_tensor = tf.expand_dims(tf.reshape(tfq.convert_to_tensor(ops), -1), 0)\n",
        "  batch_dim = tf.gather(tf.shape(data_batch), 0)\n",
        "  ops_splat = tf.tile(ops_tensor, [batch_dim, 1])\n",
        "  exp_vals = tfq.layers.Expectation()(data_batch, operators=ops_splat)\n",
        "  rdm = tf.reshape(exp_vals, [batch_dim, len(qubits), -1])\n",
        "  return rdm"
      ]
    },
    {
      "cell_type": "code",
      "execution_count": null,
      "metadata": {
        "colab": {
          "base_uri": "https://localhost:8080/"
        },
        "id": "xZOEdNMzS8hW",
        "outputId": "2670c388-5588-4aef-8dbd-03b7b19a8673"
      },
      "outputs": [
        {
          "output_type": "stream",
          "name": "stderr",
          "text": [
            "/usr/local/lib/python3.10/dist-packages/keras/src/initializers/initializers.py:120: UserWarning: The initializer RandomUniform is unseeded and being called multiple times, which will return identical values each time (even if the initializer is unseeded). Please update your code to provide a seed to the initializer, or avoid using the same initializer instance more than once.\n",
            "  warnings.warn(\n"
          ]
        },
        {
          "output_type": "stream",
          "name": "stdout",
          "text": [
            "New PQK training dataset has shape: (1000, 11, 3)\n",
            "New PQK testing dataset has shape: (200, 11, 3)\n"
          ]
        }
      ],
      "source": [
        "x_train_pqk = get_pqk_features(qubits, q_x_train_circuits)\n",
        "x_test_pqk = get_pqk_features(qubits, q_x_test_circuits)\n",
        "print('New PQK training dataset has shape:', x_train_pqk.shape)\n",
        "print('New PQK testing dataset has shape:', x_test_pqk.shape)"
      ]
    },
    {
      "cell_type": "markdown",
      "metadata": {
        "id": "A9tNBzIxT__6"
      },
      "source": [
        "## Re-labeling based on PQK features"
      ]
    },
    {
      "cell_type": "markdown",
      "source": [
        "Now that you have these quantum generated features in `x_train_pqk` and `x_test_pqk`, it is time to re-label the dataset. To achieve maximum seperation between quantum and classical performance you can re-label the dataset based on the spectrum information found in `x_train_pqk` and `x_test_pqk`."
      ],
      "metadata": {
        "id": "tvitST_bu0Ri"
      }
    },
    {
      "cell_type": "markdown",
      "metadata": {
        "id": "FFSRWagZMTTn"
      },
      "source": [
        "In preparing your dataset specifically to amplify the performance gap between classical and quantum models, you may feel as though you're \"gaming the system\" or setting up an unfair advantage for quantum computing. However, this approach serves an essential purpose in the field of Quantum Machine Learning (QML): it offers a crucial proof of existence for datasets that are inherently challenging for classical models but more manageable for quantum models.\n",
        "\n",
        "The existence of such datasets is fundamental because it provides a concrete demonstration that quantum models can indeed exhibit a measurable advantage under certain conditions. If we could not construct or identify data that highlights this separation, it would be difficult to justify the pursuit of quantum advantage in QML applications. This process allows researchers to explore the boundaries of what quantum systems can achieve in comparison to classical systems, enabling us to understand when and why quantum models might outperform classical alternatives.\n",
        "\n",
        "Creating and testing on these purposefully challenging datasets is not about skewing results in favor of quantum models; rather, it's about paving the way for real-world applications of quantum advantage. By starting with well-defined, advantageous scenarios, we gain insights into the unique capabilities of quantum systems. These insights can then inform more complex and practical applications, where the potential advantages of quantum models might not be as obvious but could still offer significant value in specific fields.\n",
        "\n",
        "In essence, this approach is about setting a baseline and showcasing the strengths of quantum models in a controlled environment. Once a clear advantage is demonstrated with purpose-built datasets, researchers can move towards testing quantum models on more diverse and real-world data, gradually advancing toward applications where quantum computing could offer transformative benefits over classical approaches. This structured, proof-driven progression is critical for establishing the viability and future direction of Quantum Machine Learning."
      ]
    },
    {
      "cell_type": "code",
      "execution_count": null,
      "metadata": {
        "id": "BLyGksxvGINl"
      },
      "outputs": [],
      "source": [
        "def compute_kernel_matrix(vecs, gamma):\n",
        "  \"\"\"Computes d[i][j] = e^ -gamma * (vecs[i] - vecs[j]) ** 2 \"\"\"\n",
        "  scaled_gamma = gamma / (\n",
        "      tf.cast(tf.gather(tf.shape(vecs), 1), tf.float32) * tf.math.reduce_std(vecs))\n",
        "  return scaled_gamma * tf.einsum('ijk->ij',(vecs[:,None,:] - vecs) ** 2)\n",
        "\n",
        "def get_spectrum(datapoints, gamma=1.0):\n",
        "  \"\"\"Compute the eigenvalues and eigenvectors of the kernel of datapoints.\"\"\"\n",
        "  KC_qs = compute_kernel_matrix(datapoints, gamma)\n",
        "  S, V = tf.linalg.eigh(KC_qs)\n",
        "  S = tf.math.abs(S)\n",
        "  return S, V"
      ]
    },
    {
      "cell_type": "code",
      "execution_count": null,
      "metadata": {
        "colab": {
          "base_uri": "https://localhost:8080/"
        },
        "id": "a4AxcKa4RRJr",
        "outputId": "f55b6591-53ca-44c3-a605-489714b8241b"
      },
      "outputs": [
        {
          "output_type": "stream",
          "name": "stdout",
          "text": [
            "Eigenvectors of pqk kernel matrix: tf.Tensor(\n",
            "[[-0.00868077  0.02423258  0.01467333 ...  0.01395902 -0.0050917\n",
            "   0.02220657]\n",
            " [-0.02525454  0.01181304 -0.05881315 ...  0.0014556   0.01359901\n",
            "   0.03266412]\n",
            " [-0.01401961 -0.02108116 -0.01923301 ...  0.00437862 -0.01515722\n",
            "   0.02846662]\n",
            " ...\n",
            " [ 0.04236531 -0.01111557 -0.01225703 ...  0.04084962 -0.12148073\n",
            "   0.02641368]\n",
            " [ 0.05043699  0.0106735  -0.03753379 ... -0.10222666  0.06217318\n",
            "   0.03121907]\n",
            " [ 0.06210106 -0.01802788  0.00602458 ...  0.          0.\n",
            "   0.03108444]], shape=(1200, 1200), dtype=float32)\n",
            "Eigenvectors of original kernel matrix: tf.Tensor(\n",
            "[[ 0.03835682 -0.0283473  -0.01169783 ... -0.00157049 -0.03562555\n",
            "   0.03206971]\n",
            " [-0.04018167 -0.00888094 -0.01388247 ... -0.02960675  0.01823647\n",
            "   0.0288196 ]\n",
            " [-0.01667189 -0.01350371 -0.0366386  ... -0.02697806  0.01625295\n",
            "   0.02195407]\n",
            " ...\n",
            " [-0.03015643  0.01671633 -0.01603425 ...  0.02381248  0.19260113\n",
            "   0.02365687]\n",
            " [ 0.00397763  0.04998881 -0.00528352 ...  0.09188147 -0.36764964\n",
            "   0.02781993]\n",
            " [-0.01665729  0.00818617 -0.0432341  ...  0.          0.\n",
            "   0.01875088]], shape=(1200, 1200), dtype=float32)\n"
          ]
        }
      ],
      "source": [
        "S_pqk, V_pqk = get_spectrum(\n",
        "    tf.reshape(tf.concat([x_train_pqk, x_test_pqk], 0), [-1, len(qubits) * 3]))\n",
        "\n",
        "S_original, V_original = get_spectrum(\n",
        "    tf.cast(tf.concat([x_train, x_test], 0), tf.float32), gamma=0.005)\n",
        "\n",
        "print('Eigenvectors of pqk kernel matrix:', V_pqk)\n",
        "print('Eigenvectors of original kernel matrix:', V_original)"
      ]
    },
    {
      "cell_type": "markdown",
      "metadata": {
        "id": "M1oULyGmcWC9"
      },
      "source": [
        "Now you have everything you need to re-label the dataset! Now you can consult with the flowchart to better understand how to maximize performance seperation when re-labeling the dataset:\n",
        "\n",
        "<img src=\"https://github.com/tensorflow/quantum/blob/master/docs/tutorials/images/quantum_data_1.png?raw=1\">\n",
        "\n",
        "In order to maximize the seperation between quantum and classical models, you will attempt to maximize the geometric difference between the original dataset and the PQK features kernel matrices $g(K_1 || K_2) = \\sqrt{ || \\sqrt{K_2} K_1^{-1} \\sqrt{K_2} || _\\infty}$ using `S_pqk, V_pqk` and `S_original, V_original`. A large value of $g$ ensures that you initially move to the right in the flowchart down towards a prediction advantage in the quantum case."
      ]
    },
    {
      "cell_type": "markdown",
      "metadata": {
        "id": "PGEafy_kou6y"
      },
      "source": [
        "Note: Computing quantities for $s$ and $d$ are also very useful when looking to better understand performance seperations. In this case ensuring a large $g$ value is enough to see performance seperation."
      ]
    },
    {
      "cell_type": "code",
      "execution_count": null,
      "metadata": {
        "id": "g-D_939PZoOH"
      },
      "outputs": [],
      "source": [
        "def get_stilted_dataset(S, V, S_2, V_2, lambdav=1.1):\n",
        "  \"\"\"Prepare new labels that maximize geometric distance between kernels.\"\"\"\n",
        "  S_diag = tf.linalg.diag(S ** 0.5)\n",
        "  S_2_diag = tf.linalg.diag(S_2 / (S_2 + lambdav) ** 2)\n",
        "  scaling = S_diag @ tf.transpose(V) @ \\\n",
        "            V_2 @ S_2_diag @ tf.transpose(V_2) @ \\\n",
        "            V @ S_diag\n",
        "\n",
        "  # Generate new lables using the largest eigenvector.\n",
        "  _, vecs = tf.linalg.eig(scaling)\n",
        "  new_labels = tf.math.real(\n",
        "      tf.einsum('ij,j->i', tf.cast(V @ S_diag, tf.complex64), vecs[-1])).numpy()\n",
        "  # Create new labels and add some small amount of noise.\n",
        "  final_y = new_labels > np.median(new_labels)\n",
        "  noisy_y = (final_y ^ (np.random.uniform(size=final_y.shape) > 0.95))\n",
        "  return noisy_y"
      ]
    },
    {
      "cell_type": "code",
      "execution_count": null,
      "metadata": {
        "id": "3IkuiFmZRUby"
      },
      "outputs": [],
      "source": [
        "y_relabel = get_stilted_dataset(S_pqk, V_pqk, S_original, V_original)\n",
        "y_train_new, y_test_new = y_relabel[:N_TRAIN], y_relabel[N_TRAIN:]"
      ]
    },
    {
      "cell_type": "markdown",
      "metadata": {
        "id": "5NcCVfLGKsU9"
      },
      "source": [
        "# Comparing models"
      ]
    },
    {
      "cell_type": "markdown",
      "source": [
        "Now that you have prepared your dataset it is time to compare model performance. You will create two small feedforward neural networks and compare performance when they are given access to the PQK features found in `x_train_pqk`."
      ],
      "metadata": {
        "id": "1zOvI68svMTq"
      }
    },
    {
      "cell_type": "markdown",
      "metadata": {
        "id": "sqfjpBOZWmar"
      },
      "source": [
        "## Create PQK enhanced model"
      ]
    },
    {
      "cell_type": "markdown",
      "source": [
        "Using standard `tf.keras` library features you can now create and a train a model on the `x_train_pqk` and `y_train_new` datapoints:"
      ],
      "metadata": {
        "id": "0m7qXeRDvQrz"
      }
    },
    {
      "cell_type": "code",
      "execution_count": null,
      "metadata": {
        "colab": {
          "base_uri": "https://localhost:8080/"
        },
        "id": "eK94tGyf--q2",
        "outputId": "90362385-2a06-462d-dc24-f876f90a1b7e"
      },
      "outputs": [
        {
          "output_type": "stream",
          "name": "stdout",
          "text": [
            "Model: \"sequential\"\n",
            "_________________________________________________________________\n",
            " Layer (type)                Output Shape              Param #   \n",
            "=================================================================\n",
            " dense (Dense)               (None, 32)                1088      \n",
            "                                                                 \n",
            " dense_1 (Dense)             (None, 16)                528       \n",
            "                                                                 \n",
            " dense_2 (Dense)             (None, 1)                 17        \n",
            "                                                                 \n",
            "=================================================================\n",
            "Total params: 1633 (6.38 KB)\n",
            "Trainable params: 1633 (6.38 KB)\n",
            "Non-trainable params: 0 (0.00 Byte)\n",
            "_________________________________________________________________\n"
          ]
        }
      ],
      "source": [
        "#docs_infra: no_execute\n",
        "def create_pqk_model():\n",
        "    model = tf.keras.Sequential()\n",
        "    model.add(tf.keras.layers.Dense(32, activation='sigmoid', input_shape=[len(qubits) * 3,]))\n",
        "    model.add(tf.keras.layers.Dense(16, activation='sigmoid'))\n",
        "    model.add(tf.keras.layers.Dense(1))\n",
        "    return model\n",
        "\n",
        "pqk_model = create_pqk_model()\n",
        "pqk_model.compile(loss=tf.keras.losses.BinaryCrossentropy(from_logits=True),\n",
        "              optimizer=tf.keras.optimizers.Adam(learning_rate=0.003),\n",
        "              metrics=['accuracy'])\n",
        "\n",
        "pqk_model.summary()"
      ]
    },
    {
      "cell_type": "markdown",
      "source": [
        "This output describes the architecture of a simple feedforward neural network model in TensorFlow/Keras, using the \"Sequential\" API, which allows stacking layers in a linear sequence. Here’s a breakdown of each component in the model summary:\n",
        "\n",
        "1. **Model Type**:\n",
        "   - The model is of type **\"sequential\"**, meaning the layers are stacked one after the other in a sequence.\n",
        "\n",
        "2. **Layers**:\n",
        "   - The network consists of three **Dense** (fully connected) layers, each with a specified number of units (neurons) and parameters.\n",
        "\n",
        "3. **Layer Details**:\n",
        "   - **Layer 1 (dense)**:\n",
        "     - **Units**: 32\n",
        "     - **Output Shape**: `(None, 32)`, where `None` indicates that the batch size is variable, and 32 represents the number of units in this layer.\n",
        "     - **Parameters**: 1088 parameters, calculated as `(input_features + 1) * 32` (where the +1 accounts for the bias term in each neuron).\n",
        "   - **Layer 2 (dense_1)**:\n",
        "     - **Units**: 16\n",
        "     - **Output Shape**: `(None, 16)`\n",
        "     - **Parameters**: 528, calculated as `(32 + 1) * 16`, connecting the 32 units from the previous layer to 16 units in this layer.\n",
        "   - **Layer 3 (dense_2)**:\n",
        "     - **Units**: 1 (output layer)\n",
        "     - **Output Shape**: `(None, 1)`, indicating a single output value.\n",
        "     - **Parameters**: 17, calculated as `(16 + 1) * 1`, where 16 inputs connect to 1 output neuron, with an additional bias term.\n",
        "\n",
        "4. **Parameter Summary**:\n",
        "   - **Total Parameters**: 1,633, which includes all the weights and biases across the layers.\n",
        "   - **Trainable Parameters**: 1,633, meaning all parameters will be adjusted during training.\n",
        "   - **Non-trainable Parameters**: 0, indicating there are no frozen layers or fixed parameters in this model.\n",
        "\n",
        "5. **Total Size**:\n",
        "   - The entire model occupies 6.38 KB, which is relatively lightweight and should be efficient for training on smaller datasets or for deployment in low-resource environments.\n",
        "\n",
        "This model could be suitable for a binary classification or regression task, given the single neuron in the output layer. It’s relatively simple, which might make it appropriate for tasks with limited complexity or small datasets."
      ],
      "metadata": {
        "id": "inJfm1ikvfTY"
      }
    },
    {
      "cell_type": "code",
      "execution_count": null,
      "metadata": {
        "id": "QUL8ygMn_zOB"
      },
      "outputs": [],
      "source": [
        "#docs_infra: no_execute\n",
        "pqk_history = pqk_model.fit(tf.reshape(x_train_pqk, [N_TRAIN, -1]),\n",
        "          y_train_new,\n",
        "          batch_size=32,\n",
        "          epochs=1000,\n",
        "          verbose=0,\n",
        "          validation_data=(tf.reshape(x_test_pqk, [N_TEST, -1]), y_test_new))"
      ]
    },
    {
      "cell_type": "markdown",
      "metadata": {
        "id": "NN4Wqa-iLri9"
      },
      "source": [
        "## Create a classical model"
      ]
    },
    {
      "cell_type": "markdown",
      "source": [
        "Similar to the code above you can now also create a classical model that doesn't have access to the PQK features in your stilted dataset. This model can be trained using `x_train` and `y_label_new`."
      ],
      "metadata": {
        "id": "cEdIbrJ_w5C6"
      }
    },
    {
      "cell_type": "code",
      "execution_count": null,
      "metadata": {
        "colab": {
          "base_uri": "https://localhost:8080/"
        },
        "id": "uHhUYWVh9kGE",
        "outputId": "af7dde11-842e-4c5f-e400-f04c0baf6469"
      },
      "outputs": [
        {
          "output_type": "stream",
          "name": "stdout",
          "text": [
            "Model: \"sequential_2\"\n",
            "_________________________________________________________________\n",
            " Layer (type)                Output Shape              Param #   \n",
            "=================================================================\n",
            " dense_6 (Dense)             (None, 32)                352       \n",
            "                                                                 \n",
            " dense_7 (Dense)             (None, 16)                528       \n",
            "                                                                 \n",
            " dense_8 (Dense)             (None, 1)                 17        \n",
            "                                                                 \n",
            "=================================================================\n",
            "Total params: 897 (3.50 KB)\n",
            "Trainable params: 897 (3.50 KB)\n",
            "Non-trainable params: 0 (0.00 Byte)\n",
            "_________________________________________________________________\n"
          ]
        }
      ],
      "source": [
        "#docs_infra: no_execute\n",
        "def create_fair_classical_model():\n",
        "    model = tf.keras.Sequential()\n",
        "    model.add(tf.keras.layers.Dense(32, activation='sigmoid', input_shape=[DATASET_DIM,]))\n",
        "    model.add(tf.keras.layers.Dense(16, activation='sigmoid'))\n",
        "    model.add(tf.keras.layers.Dense(1))\n",
        "    return model\n",
        "\n",
        "model = create_fair_classical_model()\n",
        "model.compile(loss=tf.keras.losses.BinaryCrossentropy(from_logits=True),\n",
        "              optimizer=tf.keras.optimizers.Adam(learning_rate=0.03),\n",
        "              metrics=['accuracy'])\n",
        "\n",
        "model.summary()"
      ]
    },
    {
      "cell_type": "markdown",
      "source": [
        "This output describes a smaller, sequential neural network model compared to the previous example. Here’s a breakdown of its architecture and parameter details:\n",
        "\n",
        "1. **Model Type**:\n",
        "   - The model is of type **\"sequential\"**, meaning layers are stacked in a linear sequence.\n",
        "\n",
        "2. **Layers**:\n",
        "   - The model consists of three **Dense** (fully connected) layers, with a specific number of units (neurons) in each layer and a set of trainable parameters.\n",
        "\n",
        "3. **Layer Details**:\n",
        "   - **Layer 1 (dense_3)**:\n",
        "     - **Units**: 32\n",
        "     - **Output Shape**: `(None, 32)`, where `None` is for the variable batch size, and 32 represents the number of neurons in this layer.\n",
        "     - **Parameters**: 352, calculated as `(input_features + 1) * 32`. The number of input features is inferred to be 10 here because \\( (10 + 1) \\times 32 = 352 \\).\n",
        "   - **Layer 2 (dense_4)**:\n",
        "     - **Units**: 16\n",
        "     - **Output Shape**: `(None, 16)`\n",
        "     - **Parameters**: 528, calculated as `(32 + 1) * 16`, connecting the 32 units from the previous layer to 16 units in this layer.\n",
        "   - **Layer 3 (dense_5)**:\n",
        "     - **Units**: 1 (output layer)\n",
        "     - **Output Shape**: `(None, 1)`, which represents a single output value.\n",
        "     - **Parameters**: 17, calculated as `(16 + 1) * 1`, where 16 inputs connect to 1 output neuron with an additional bias term.\n",
        "\n",
        "4. **Parameter Summary**:\n",
        "   - **Total Parameters**: 897, which includes all weights and biases across the layers.\n",
        "   - **Trainable Parameters**: 897, meaning all parameters will be updated during training.\n",
        "   - **Non-trainable Parameters**: 0, indicating no fixed parameters in this model.\n",
        "\n",
        "5. **Total Size**:\n",
        "   - The model is relatively lightweight, occupying just 3.50 KB, making it suitable for simpler tasks or environments with limited resources.\n",
        "\n",
        "This network is designed to be smaller and simpler than the previous model. With only 897 parameters, it may be suitable for tasks requiring limited model complexity, such as binary classification or regression on smaller datasets or datasets with low-dimensional input features."
      ],
      "metadata": {
        "id": "qEzWe8movtWE"
      }
    },
    {
      "cell_type": "code",
      "execution_count": null,
      "metadata": {
        "id": "8N54jMau-1L5"
      },
      "outputs": [],
      "source": [
        "#docs_infra: no_execute\n",
        "classical_history = model.fit(x_train,\n",
        "          y_train_new,\n",
        "          batch_size=32,\n",
        "          epochs=1000,\n",
        "          verbose=0,\n",
        "          validation_data=(x_test, y_test_new))"
      ]
    },
    {
      "cell_type": "markdown",
      "metadata": {
        "id": "wzhs1_CjL_f8"
      },
      "source": [
        "## Compare performance"
      ]
    },
    {
      "cell_type": "markdown",
      "source": [
        "After training the two models, it’s time to assess their performance, especially on validation data where generalization ability is tested. While both models are likely to achieve high accuracy—above 0.9—on the training data, this high training accuracy often does not directly translate to strong generalization on unseen instances in the validation data.\n",
        "\n",
        "To highlight the differences, you can plot the validation accuracy for both models side by side. This comparison will demonstrate how the inclusion of **Projected Quantum Kernel (PQK) features** can affect generalization. PQK features are derived from a quantum-enhanced data representation, which often captures more complex patterns in the data that traditional, purely classical representations may overlook. This unique characteristic can give quantum models a significant advantage on validation data, as they leverage richer data representations to recognize patterns in unseen samples.\n",
        "\n",
        "Here's what to expect in the performance plot:\n",
        "\n",
        "1. **Training Accuracy**:\n",
        "   - Both models are likely to exceed 90% accuracy on the training set, given that they are well-fitted to the data provided. This high training accuracy suggests that both models can learn the given patterns within the training dataset effectively.\n",
        "   \n",
        "2. **Validation Accuracy**:\n",
        "   - On the validation set, the differences between the two models become apparent. The classical model, which lacks access to PQK features, may experience a noticeable drop in performance. This decrease reflects a limitation in the model’s ability to generalize beyond the training data. In contrast, the model trained with PQK features, which are crafted to capture intricate data structures, should retain a much higher accuracy on the validation set. The PQK features allow the quantum-enhanced model to better understand complex relationships and dependencies in the data, even when faced with instances it hasn’t seen before.\n",
        "\n",
        "3. **Visualizing the Performance Gap**:\n",
        "   - By plotting validation accuracy over epochs for both models, you’ll observe the classical model plateauing or potentially even declining in performance on the validation set due to overfitting. Meanwhile, the model leveraging PQK features is expected to maintain more stable and higher validation accuracy, indicating stronger generalization.\n",
        "   \n",
        "4. **Implications of the PQK Features**:\n",
        "   - The difference in validation accuracy highlights the unique benefits of PQK features. Since these features encapsulate a richer, quantum-informed representation of the data, they allow the model to distinguish between patterns that are hard for classical models to identify. This performance gap serves as a practical demonstration of quantum advantage in machine learning: while the classical model may struggle with unseen data, the quantum-enhanced model remains resilient, adapting more effectively to new instances.\n",
        "\n",
        "In summary, this comparison underscores the importance of PQK features in enabling a model to generalize well to unseen data. By plotting the validation performance of both models, you can clearly see that while classical models may perform well on training data, only the information provided by PQK features allows for robust performance on validation data. This validation gap provides evidence of the potential advantage of quantum machine learning models in specific tasks, setting the stage for their application in real-world problems where generalization is critical."
      ],
      "metadata": {
        "id": "HSP3W6JLwAyj"
      }
    },
    {
      "cell_type": "code",
      "execution_count": null,
      "metadata": {
        "colab": {
          "base_uri": "https://localhost:8080/",
          "height": 482
        },
        "id": "t9CDiHTmAEu-",
        "outputId": "d9a122eb-5269-4eca-9d91-d799a26eb6c0"
      },
      "outputs": [
        {
          "output_type": "execute_result",
          "data": {
            "text/plain": [
              "<matplotlib.legend.Legend at 0x7b69b9d605b0>"
            ]
          },
          "metadata": {},
          "execution_count": 36
        },
        {
          "output_type": "display_data",
          "data": {
            "text/plain": [
              "<Figure size 1000x500 with 1 Axes>"
            ],
            "image/png": "[encoded data removed]"
          },
          "metadata": {}
        }
      ],
      "source": [
        "#docs_infra: no_execute\n",
        "plt.figure(figsize=(10,5))\n",
        "plt.plot(classical_history.history['accuracy'], label='accuracy_classical')\n",
        "plt.plot(classical_history.history['val_accuracy'], label='val_accuracy_classical')\n",
        "plt.plot(pqk_history.history['accuracy'], label='accuracy_quantum')\n",
        "plt.plot(pqk_history.history['val_accuracy'], label='val_accuracy_quantum')\n",
        "plt.xlabel('Epoch')\n",
        "plt.ylabel('Accuracy')\n",
        "plt.legend()"
      ]
    },
    {
      "cell_type": "markdown",
      "source": [
        "This plot shows the accuracy of multiple models over 1000 training epochs. Here’s a breakdown of what each line likely represents and what the plot indicates about the performance and generalization of the models:\n",
        "\n",
        "1. **Axes**:\n",
        "   - The x-axis represents the **Epochs**, or the number of training cycles the models have gone through.\n",
        "   - The y-axis shows **Accuracy**, with values ranging from 0 to 1, where 1 represents 100% accuracy.\n",
        "\n",
        "2. **Lines and Colors**:\n",
        "   - There are four distinct colored lines representing the accuracy curves of different models or different datasets (training vs. validation) across epochs:\n",
        "     - **Blue Line**: This line shows a model that achieves high accuracy but exhibits noticeable fluctuations. The dips in accuracy suggest potential instability or overfitting. This could be a classical model struggling to generalize to validation data, causing it to perform inconsistently on unseen instances.\n",
        "     - **Green Line**: This line is stable and reaches a high level of accuracy, close to 1.0, without the fluctuations seen in the blue line. This could represent a quantum-enhanced model using PQK features, which helps it generalize well without overfitting.\n",
        "     - **Red Line**: This line is relatively flat and stable, possibly representing the training or baseline performance of a simpler model or a classical model without PQK features. Its accuracy seems to plateau early and remains consistent without achieving high accuracy, indicating limited learning ability.\n",
        "     - **Orange Line**: This line has the lowest accuracy and fluctuates throughout the epochs, likely representing a poorly performing model that fails to learn effectively. It could represent a classical model without access to any enhanced features, struggling to find useful patterns in the data.\n",
        "\n",
        "3. **Insights and Interpretations**:\n",
        "   - **Blue Line Instability**: The fluctuations in the blue line might be due to overfitting or instability in training. Despite achieving high accuracy at times, the model may not generalize well, leading to performance drops on validation data.\n",
        "   - **Green Line Generalization**: The green line likely represents a model that can generalize effectively to unseen data, as it maintains high accuracy without significant fluctuations. This stability could be due to the PQK features, allowing the model to capture complex patterns that improve its resilience on new data.\n",
        "   - **Red Line Plateau**: The red line reaches an early plateau, indicating a simpler model or a model without access to advanced features like PQK. It shows limited improvement over time, likely due to the lack of information in the data representation.\n",
        "   - **Orange Line Struggles**: The low and inconsistent accuracy of the orange line suggests that the model is unable to learn the patterns effectively. This could be a baseline classical model with minimal data features, struggling due to the dataset’s complexity.\n",
        "\n",
        "4. **Overall Analysis**:\n",
        "   - This plot illustrates the impact of feature quality on model performance. Models with PQK features (likely the green line) show higher, stable accuracy, indicating that quantum-enhanced representations improve generalization to validation data.\n",
        "   - The fluctuating and lower-performing lines (blue, red, and orange) likely represent classical models without PQK features, which struggle to maintain consistent accuracy on validation data.\n",
        "   - This performance gap underscores the advantages of quantum machine learning models in scenarios where complex data structures are challenging for classical approaches.\n",
        "\n",
        "In conclusion, the plot visually confirms that the model trained with PQK features (green line) achieves both high accuracy and generalization, while classical models without these features show limited or unstable performance on validation data. This serves as a practical demonstration of the potential advantage that quantum features can provide in machine learning tasks."
      ],
      "metadata": {
        "id": "Qe_NakCvx7u2"
      }
    },
    {
      "cell_type": "markdown",
      "metadata": {
        "id": "5vauIBu0ou6z"
      },
      "source": [
        "# Important conclusions"
      ]
    },
    {
      "cell_type": "markdown",
      "source": [
        "The experiments conducted here and in the [MNIST Quantum ML tutorial](https://www.tensorflow.org/quantum/tutorials/mnist) provide several key insights into the current state of quantum versus classical machine learning. These conclusions shed light on the strengths, limitations, and potential of quantum models when applied to different types of data, particularly in relation to the limitations of classical models. Here’s an expanded discussion of each point:\n",
        "\n",
        "1. **Quantum Models Are Unlikely to Outperform Classical Models on Large Classical Datasets**:\n",
        "   - One of the most important takeaways from these experiments is the realization that today’s quantum models are unlikely to surpass classical models when working with traditional, large-scale classical datasets. Classical datasets, especially those used in modern machine learning, often consist of millions of datapoints and complex feature representations. Classical models have been optimized over decades to handle such data efficiently and accurately.\n",
        "   - Quantum machine learning is still in its infancy, with current quantum computers having limited qubit counts, coherence times, and error rates. This makes it challenging for quantum models to handle datasets of similar scale or complexity effectively. Thus, in practical terms, classical models remain the go-to solution for large, conventional datasets where they have proven to be both efficient and powerful.\n",
        "\n",
        "2. **Quantum Origin of Data Doesn’t Necessarily Imply Difficulty for Classical Models**:\n",
        "   - Another key insight is that just because data originates from a quantum system or a complex quantum circuit, it doesn’t automatically make that data difficult for classical models to learn. Many classical models can approximate complex functions, even those derived from quantum circuits, especially when the underlying patterns in the data aren’t highly entangled or aren’t structured in ways that classical models can’t effectively capture.\n",
        "   - This understanding is crucial in shaping expectations around quantum advantage. Just because data is generated or inspired by a quantum process doesn’t mean it inherently requires a quantum model to achieve high accuracy. Classical models, particularly deep neural networks, have a remarkable ability to approximate a wide range of functions, and they often perform well on quantum-generated data unless it’s specifically designed to exploit the unique capabilities of quantum systems.\n",
        "\n",
        "3. **Existence of Quantum-Advantage Datasets**:\n",
        "   - Perhaps the most promising conclusion from these experiments is the empirical demonstration that certain types of datasets do exist that are easy for quantum models to learn and difficult for classical models. These datasets, inherently quantum in nature, exhibit structures that are challenging for classical architectures and algorithms to capture, regardless of their complexity or scale.\n",
        "   - Identifying and working with these datasets is a foundational step in demonstrating quantum advantage in machine learning. These quantum-specific datasets provide evidence that, under the right conditions, quantum models can achieve results that classical models cannot, opening the door to applications where quantum advantage is not just theoretical but practical. This finding justifies further exploration into quantum machine learning, as it hints at future possibilities where quantum models may offer unique solutions to complex real-world problems that classical models cannot easily address.\n",
        "\n",
        "***Broader Implications for Quantum Machine Learning***\n",
        "\n",
        "These conclusions underscore the current and potential future role of quantum machine learning. While classical models are likely to retain their dominance on conventional datasets, the ability of quantum models to outperform classical ones on certain quantum-specific datasets suggests that quantum machine learning could carve out specialized niches. This could be particularly valuable in fields where data is inherently quantum, such as quantum chemistry, materials science, and some areas of cryptography, where quantum-native data might be better suited to quantum analysis.\n",
        "\n",
        "Moreover, these insights highlight the importance of dataset design and selection in quantum machine learning research. The search for quantum advantage is not solely about improving quantum hardware or optimizing quantum algorithms—it’s also about identifying datasets that inherently challenge classical models. By designing and studying such datasets, researchers can showcase quantum advantage more effectively, providing a clearer path for practical quantum applications.\n",
        "\n",
        "In summary, these experiments reinforce the idea that quantum machine learning is not a replacement for classical machine learning but rather a complementary tool. Classical models will continue to perform well on large, traditional datasets, while quantum models offer potential advantages on specific quantum-native datasets. As the field progresses, this hybrid approach—leveraging classical and quantum models in tandem or selectively—may become the most practical way forward in realizing the full potential of machine learning in diverse domains."
      ],
      "metadata": {
        "id": "3YYY3ZDOyRa8"
      }
    }
  ],
  "metadata": {
    "colab": {
      "provenance": [],
      "gpuType": "T4"
    },
    "kernelspec": {
      "display_name": "Python 3",
      "name": "python3"
    },
    "language_info": {
      "codemirror_mode": {
        "name": "ipython",
        "version": 3
      },
      "file_extension": ".py",
      "mimetype": "text/x-python",
      "name": "python",
      "nbconvert_exporter": "python",
      "pygments_lexer": "ipython3",
      "version": "3.8.6"
    },
    "accelerator": "GPU"
  },
  "nbformat": 4,
  "nbformat_minor": 0
}